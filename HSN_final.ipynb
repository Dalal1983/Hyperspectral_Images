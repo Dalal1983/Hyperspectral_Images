{
 "cells": [
  {
   "cell_type": "markdown",
   "metadata": {
    "id": "4uv-Hak8g9LZ"
   },
   "source": [
    "Code adapted from \n",
    "\n",
    "'S. K. Roy, G. Krishna, S. R. Dubey and B. B. Chaudhuri, \"HybridSN: Exploring 3-D–2-D CNN Feature Hierarchy for Hyperspectral Image Classification,\" in IEEE Geoscience and Remote Sensing Letters, vol. 17, no. 2, pp. 277-281, Feb. 2020, doi: 10.1109/LGRS.2019.2918719.\n",
    "\n",
    "Github: https://github.com/gokriznastic/HybridSN"
   ]
  },
  {
   "cell_type": "markdown",
   "metadata": {},
   "source": [
    "Dataset: https://www2.isprs.org/commissions/comm3/wg4/hyrank/"
   ]
  },
  {
   "cell_type": "code",
   "execution_count": 2,
   "metadata": {
    "colab": {
     "base_uri": "https://localhost:8080/"
    },
    "executionInfo": {
     "elapsed": 4361,
     "status": "ok",
     "timestamp": 1604442722158,
     "user": {
      "displayName": "Nikos Sourlos",
      "photoUrl": "https://lh3.googleusercontent.com/a-/AOh14GjcgTSHpoVAOYoex4FY1mNtu0JRvup398eYayQgBw=s64",
      "userId": "05975458465273227746"
     },
     "user_tz": -120
    },
    "id": "SB5xSvVCFol8",
    "outputId": "08a1fb9e-d3f5-4635-ae7a-744343803a00"
   },
   "outputs": [
    {
     "name": "stdout",
     "output_type": "stream",
     "text": [
      "Collecting spectral\n",
      "\u001b[?25l  Downloading https://files.pythonhosted.org/packages/ce/06/6a89035cde4eac3ed94e1888f850af653386e8ee827edc72ffc8e445bcb7/spectral-0.22.1-py3-none-any.whl (212kB)\n",
      "\r",
      "\u001b[K     |█▌                              | 10kB 17.0MB/s eta 0:00:01\r",
      "\u001b[K     |███                             | 20kB 1.7MB/s eta 0:00:01\r",
      "\u001b[K     |████▋                           | 30kB 2.2MB/s eta 0:00:01\r",
      "\u001b[K     |██████▏                         | 40kB 2.5MB/s eta 0:00:01\r",
      "\u001b[K     |███████▊                        | 51kB 1.9MB/s eta 0:00:01\r",
      "\u001b[K     |█████████▎                      | 61kB 2.2MB/s eta 0:00:01\r",
      "\u001b[K     |██████████▊                     | 71kB 2.4MB/s eta 0:00:01\r",
      "\u001b[K     |████████████▎                   | 81kB 2.6MB/s eta 0:00:01\r",
      "\u001b[K     |█████████████▉                  | 92kB 2.8MB/s eta 0:00:01\r",
      "\u001b[K     |███████████████▍                | 102kB 2.7MB/s eta 0:00:01\r",
      "\u001b[K     |█████████████████               | 112kB 2.7MB/s eta 0:00:01\r",
      "\u001b[K     |██████████████████▌             | 122kB 2.7MB/s eta 0:00:01\r",
      "\u001b[K     |████████████████████            | 133kB 2.7MB/s eta 0:00:01\r",
      "\u001b[K     |█████████████████████▌          | 143kB 2.7MB/s eta 0:00:01\r",
      "\u001b[K     |███████████████████████         | 153kB 2.7MB/s eta 0:00:01\r",
      "\u001b[K     |████████████████████████▋       | 163kB 2.7MB/s eta 0:00:01\r",
      "\u001b[K     |██████████████████████████▏     | 174kB 2.7MB/s eta 0:00:01\r",
      "\u001b[K     |███████████████████████████▊    | 184kB 2.7MB/s eta 0:00:01\r",
      "\u001b[K     |█████████████████████████████▎  | 194kB 2.7MB/s eta 0:00:01\r",
      "\u001b[K     |██████████████████████████████▊ | 204kB 2.7MB/s eta 0:00:01\r",
      "\u001b[K     |████████████████████████████████| 215kB 2.7MB/s \n",
      "\u001b[?25hRequirement already satisfied: numpy in /usr/local/lib/python3.6/dist-packages (from spectral) (1.18.5)\n",
      "Installing collected packages: spectral\n",
      "Successfully installed spectral-0.22.1\n"
     ]
    }
   ],
   "source": [
    "# Since google colab does not have this module\n",
    "!pip install spectral"
   ]
  },
  {
   "cell_type": "code",
   "execution_count": 1,
   "metadata": {
    "executionInfo": {
     "elapsed": 2746,
     "status": "ok",
     "timestamp": 1604443255048,
     "user": {
      "displayName": "Nikos Sourlos",
      "photoUrl": "https://lh3.googleusercontent.com/a-/AOh14GjcgTSHpoVAOYoex4FY1mNtu0JRvup398eYayQgBw=s64",
      "userId": "05975458465273227746"
     },
     "user_tz": -120
    },
    "id": "MH3eZBY2-qSH"
   },
   "outputs": [],
   "source": [
    "#Import Dependencies\n",
    "import keras\n",
    "from keras.layers import Conv2D, Conv3D, Flatten, Dense, Reshape, BatchNormalization\n",
    "from keras.layers import Dropout, Input\n",
    "from keras.models import Model\n",
    "from keras.optimizers import Adam\n",
    "from keras.callbacks import ModelCheckpoint\n",
    "from keras.utils import np_utils\n",
    "\n",
    "from sklearn.decomposition import PCA\n",
    "from sklearn.model_selection import train_test_split\n",
    "from sklearn.metrics import confusion_matrix, accuracy_score, classification_report, cohen_kappa_score\n",
    "\n",
    "from operator import truediv\n",
    "\n",
    "import numpy as np\n",
    "import matplotlib.pyplot as plt\n",
    "import scipy.io as sio\n",
    "import os\n",
    "import spectral\n",
    "import time\n",
    "import random\n",
    "from matplotlib import patches\n",
    "from spectral import spy_colors\n",
    "\n",
    "%matplotlib inline\n",
    "\n",
    "from PIL import Image\n",
    "import numpy as np\n",
    "import os\n",
    "import tifffile"
   ]
  },
  {
   "cell_type": "code",
   "execution_count": 2,
   "metadata": {
    "colab": {
     "base_uri": "https://localhost:8080/"
    },
    "executionInfo": {
     "elapsed": 2123,
     "status": "ok",
     "timestamp": 1604443255049,
     "user": {
      "displayName": "Nikos Sourlos",
      "photoUrl": "https://lh3.googleusercontent.com/a-/AOh14GjcgTSHpoVAOYoex4FY1mNtu0JRvup398eYayQgBw=s64",
      "userId": "05975458465273227746"
     },
     "user_tz": -120
    },
    "id": "om44Jta0-qSN",
    "outputId": "47d3dd9a-2808-45a0-8a31-35b44fcf524e"
   },
   "outputs": [
    {
     "name": "stdout",
     "output_type": "stream",
     "text": [
      "Drive already mounted at /content/drive; to attempt to forcibly remount, call drive.mount(\"/content/drive\", force_remount=True).\n"
     ]
    }
   ],
   "source": [
    "#Connect to google drive\n",
    "from google.colab import drive\n",
    "drive.mount('/content/drive')"
   ]
  },
  {
   "cell_type": "markdown",
   "metadata": {
    "id": "JCYT7gKE-qSR"
   },
   "source": [
    "# Data Loading"
   ]
  },
  {
   "cell_type": "code",
   "execution_count": 6,
   "metadata": {
    "colab": {
     "base_uri": "https://localhost:8080/"
    },
    "executionInfo": {
     "elapsed": 3622,
     "status": "ok",
     "timestamp": 1604442890382,
     "user": {
      "displayName": "Nikos Sourlos",
      "photoUrl": "https://lh3.googleusercontent.com/a-/AOh14GjcgTSHpoVAOYoex4FY1mNtu0JRvup398eYayQgBw=s64",
      "userId": "05975458465273227746"
     },
     "user_tz": -120
    },
    "id": "_cIvlbcn-qSR",
    "outputId": "47746452-9723-48d0-bf44-33dcbc4033db"
   },
   "outputs": [
    {
     "data": {
      "text/plain": [
       "(250, 1376, 176)"
      ]
     },
     "execution_count": 6,
     "metadata": {
      "tags": []
     },
     "output_type": "execute_result"
    }
   ],
   "source": [
    "#Load Dioni\n",
    "Dioni=tifffile.imread('/content/drive/My Drive/col/HyRANK_satellite/HyRANK_satellite/TrainingSet/Dioni.tif')\n",
    "DioniGT=tifffile.imread('/content/drive/My Drive/col/HyRANK_satellite/HyRANK_satellite/TrainingSet/Dioni_GT.tif')\n",
    "Dioni.shape #It is an array now"
   ]
  },
  {
   "cell_type": "code",
   "execution_count": 7,
   "metadata": {
    "colab": {
     "base_uri": "https://localhost:8080/"
    },
    "executionInfo": {
     "elapsed": 4486,
     "status": "ok",
     "timestamp": 1604442891729,
     "user": {
      "displayName": "Nikos Sourlos",
      "photoUrl": "https://lh3.googleusercontent.com/a-/AOh14GjcgTSHpoVAOYoex4FY1mNtu0JRvup398eYayQgBw=s64",
      "userId": "05975458465273227746"
     },
     "user_tz": -120
    },
    "id": "-kbKCB10-qSV",
    "outputId": "1f422942-087a-491f-acd4-9cd5da09a0a4"
   },
   "outputs": [
    {
     "data": {
      "text/plain": [
       "(249, 945, 176)"
      ]
     },
     "execution_count": 7,
     "metadata": {
      "tags": []
     },
     "output_type": "execute_result"
    }
   ],
   "source": [
    "#Load Loukia\n",
    "Loukia=tifffile.imread('/content/drive/My Drive/col/HyRANK_satellite/HyRANK_satellite/TrainingSet/Loukia.tif')\n",
    "LoukiaGT=tifffile.imread('/content/drive/My Drive/col/HyRANK_satellite/HyRANK_satellite/TrainingSet/Loukia_GT.tif')\n",
    "Loukia.shape"
   ]
  },
  {
   "cell_type": "code",
   "execution_count": 3,
   "metadata": {
    "executionInfo": {
     "elapsed": 835,
     "status": "ok",
     "timestamp": 1604443263567,
     "user": {
      "displayName": "Nikos Sourlos",
      "photoUrl": "https://lh3.googleusercontent.com/a-/AOh14GjcgTSHpoVAOYoex4FY1mNtu0JRvup398eYayQgBw=s64",
      "userId": "05975458465273227746"
     },
     "user_tz": -120
    },
    "id": "g7nOYNyM-qSZ"
   },
   "outputs": [],
   "source": [
    "## GLOBAL VARIABLES\n",
    "test_ratio = 0.3 #initially 0.7\n",
    "windowSize = 13 #25 #only odd numbers like 11,13 etc"
   ]
  },
  {
   "cell_type": "code",
   "execution_count": 4,
   "metadata": {
    "executionInfo": {
     "elapsed": 638,
     "status": "ok",
     "timestamp": 1604443264120,
     "user": {
      "displayName": "Nikos Sourlos",
      "photoUrl": "https://lh3.googleusercontent.com/a-/AOh14GjcgTSHpoVAOYoex4FY1mNtu0JRvup398eYayQgBw=s64",
      "userId": "05975458465273227746"
     },
     "user_tz": -120
    },
    "id": "GRz8zELy-qSf"
   },
   "outputs": [],
   "source": [
    "def splitTrainTestSet(X, y, testRatio, randomState=345): #For splitting the data\n",
    "    X_train, X_test, y_train, y_test = train_test_split(X, y, test_size=testRatio, random_state=randomState,\n",
    "                                                        stratify=y)\n",
    "    return X_train, X_test, y_train, y_test"
   ]
  },
  {
   "cell_type": "code",
   "execution_count": 5,
   "metadata": {
    "executionInfo": {
     "elapsed": 988,
     "status": "ok",
     "timestamp": 1604443265010,
     "user": {
      "displayName": "Nikos Sourlos",
      "photoUrl": "https://lh3.googleusercontent.com/a-/AOh14GjcgTSHpoVAOYoex4FY1mNtu0JRvup398eYayQgBw=s64",
      "userId": "05975458465273227746"
     },
     "user_tz": -120
    },
    "id": "nr_3-0sy-qSj"
   },
   "outputs": [],
   "source": [
    "def applyPCA(X, numComponents=75): #PCA method\n",
    "    newX = np.reshape(X, (-1, X.shape[2]))\n",
    "    pca = PCA(n_components=numComponents, whiten=True)\n",
    "    newX = pca.fit_transform(newX)\n",
    "    newX = np.reshape(newX, (X.shape[0],X.shape[1], numComponents))\n",
    "    return newX, pca"
   ]
  },
  {
   "cell_type": "code",
   "execution_count": 6,
   "metadata": {
    "executionInfo": {
     "elapsed": 1265,
     "status": "ok",
     "timestamp": 1604443265730,
     "user": {
      "displayName": "Nikos Sourlos",
      "photoUrl": "https://lh3.googleusercontent.com/a-/AOh14GjcgTSHpoVAOYoex4FY1mNtu0JRvup398eYayQgBw=s64",
      "userId": "05975458465273227746"
     },
     "user_tz": -120
    },
    "id": "8neUI6Ka-qSn"
   },
   "outputs": [],
   "source": [
    "def padWithZeros(X, margin=2): #Padding\n",
    "    newX = np.zeros((X.shape[0] + 2 * margin, X.shape[1] + 2* margin, X.shape[2]))\n",
    "    x_offset = margin\n",
    "    y_offset = margin\n",
    "    newX[x_offset:X.shape[0] + x_offset, y_offset:X.shape[1] + y_offset, :] = X\n",
    "    return newX"
   ]
  },
  {
   "cell_type": "code",
   "execution_count": 7,
   "metadata": {
    "executionInfo": {
     "elapsed": 813,
     "status": "ok",
     "timestamp": 1604443265731,
     "user": {
      "displayName": "Nikos Sourlos",
      "photoUrl": "https://lh3.googleusercontent.com/a-/AOh14GjcgTSHpoVAOYoex4FY1mNtu0JRvup398eYayQgBw=s64",
      "userId": "05975458465273227746"
     },
     "user_tz": -120
    },
    "id": "1GOW9__H-qSq"
   },
   "outputs": [],
   "source": [
    "def createImageCubes(X, y, windowSize=5, removeZeroLabels = True):\n",
    "    margin = int((windowSize - 1) / 2)\n",
    "    zeroPaddedX = padWithZeros(X, margin=margin)\n",
    "    # split patches\n",
    "    patchesData = np.zeros((X.shape[0] * X.shape[1], windowSize, windowSize, X.shape[2]))\n",
    "    patchesLabels = np.zeros((X.shape[0] * X.shape[1]))\n",
    "    patchIndex = 0\n",
    "    for r in range(margin, zeroPaddedX.shape[0] - margin):\n",
    "        for c in range(margin, zeroPaddedX.shape[1] - margin):\n",
    "            patch = zeroPaddedX[r - margin:r + margin + 1, c - margin:c + margin + 1]   \n",
    "            patchesData[patchIndex, :, :, :] = patch\n",
    "            patchesLabels[patchIndex] = y[r-margin, c-margin]\n",
    "            patchIndex = patchIndex + 1\n",
    "\n",
    "    if removeZeroLabels: #The following need to be activated only if we want a class with 'black' pixels\n",
    "        ##Add 2000 points of 'black' pixels as class no 15\n",
    "        # k=0\n",
    "        # print(patchesLabels.shape) #To confirm that we are in that loop\n",
    "        # while k<2000:\n",
    "        #     row=random.randint(0, y.shape[0])\n",
    "        #     column=random.randint(0, y.shape[0])\n",
    "        #     if patchesLabels[row*column]==0:\n",
    "        #             patchesLabels[row*column]=15\n",
    "        #             k=k+1\n",
    "        #     else:\n",
    "        #         continue\n",
    "        patchesData = patchesData[patchesLabels>0,:,:,:]\n",
    "        patchesLabels = patchesLabels[patchesLabels>0]\n",
    "        patchesLabels -= 1\n",
    "    return patchesData, patchesLabels"
   ]
  },
  {
   "cell_type": "code",
   "execution_count": 11,
   "metadata": {
    "colab": {
     "base_uri": "https://localhost:8080/"
    },
    "executionInfo": {
     "elapsed": 11978,
     "status": "ok",
     "timestamp": 1604410913656,
     "user": {
      "displayName": "Nikos Sourlos",
      "photoUrl": "https://lh3.googleusercontent.com/a-/AOh14GjcgTSHpoVAOYoex4FY1mNtu0JRvup398eYayQgBw=s64",
      "userId": "05975458465273227746"
     },
     "user_tz": -120
    },
    "id": "3UKoyBnM-qSw",
    "outputId": "ff3201b3-2f10-41cd-c8a8-8d2a81b9b930"
   },
   "outputs": [
    {
     "data": {
      "text/plain": [
       "(249, 945, 30)"
      ]
     },
     "execution_count": 11,
     "metadata": {
      "tags": []
     },
     "output_type": "execute_result"
    }
   ],
   "source": [
    "#Trained on these\n",
    "X=Loukia \n",
    "y=LoukiaGT\n",
    "K = 30\n",
    "X,pca = applyPCA(X,numComponents=K) #Apply PCA\n",
    "X.shape"
   ]
  },
  {
   "cell_type": "code",
   "execution_count": 13,
   "metadata": {
    "colab": {
     "base_uri": "https://localhost:8080/"
    },
    "executionInfo": {
     "elapsed": 18994,
     "status": "ok",
     "timestamp": 1604410921736,
     "user": {
      "displayName": "Nikos Sourlos",
      "photoUrl": "https://lh3.googleusercontent.com/a-/AOh14GjcgTSHpoVAOYoex4FY1mNtu0JRvup398eYayQgBw=s64",
      "userId": "05975458465273227746"
     },
     "user_tz": -120
    },
    "id": "QhnzvsYo-qS3",
    "outputId": "210725d3-5bb6-403a-b018-372db8b55310"
   },
   "outputs": [
    {
     "data": {
      "text/plain": [
       "((13503, 13, 13, 30), (13503,))"
      ]
     },
     "execution_count": 13,
     "metadata": {
      "tags": []
     },
     "output_type": "execute_result"
    }
   ],
   "source": [
    "X, y = createImageCubes(X, y, windowSize=windowSize) #Create 3D-patches\n",
    "X.shape, y.shape"
   ]
  },
  {
   "cell_type": "code",
   "execution_count": 14,
   "metadata": {
    "colab": {
     "base_uri": "https://localhost:8080/"
    },
    "executionInfo": {
     "elapsed": 18511,
     "status": "ok",
     "timestamp": 1604410921740,
     "user": {
      "displayName": "Nikos Sourlos",
      "photoUrl": "https://lh3.googleusercontent.com/a-/AOh14GjcgTSHpoVAOYoex4FY1mNtu0JRvup398eYayQgBw=s64",
      "userId": "05975458465273227746"
     },
     "user_tz": -120
    },
    "id": "bm03_Mw0-qS7",
    "outputId": "8c4f00c0-d864-493e-9885-65e503d57b5e"
   },
   "outputs": [
    {
     "data": {
      "text/plain": [
       "array([ 0.,  1.,  2.,  3.,  4.,  5.,  6.,  7.,  8.,  9., 10., 11., 12.,\n",
       "       13.])"
      ]
     },
     "execution_count": 14,
     "metadata": {
      "tags": []
     },
     "output_type": "execute_result"
    }
   ],
   "source": [
    "np.unique(y) #To see the labels"
   ]
  },
  {
   "cell_type": "code",
   "execution_count": 15,
   "metadata": {
    "colab": {
     "base_uri": "https://localhost:8080/"
    },
    "executionInfo": {
     "elapsed": 17329,
     "status": "ok",
     "timestamp": 1604410921741,
     "user": {
      "displayName": "Nikos Sourlos",
      "photoUrl": "https://lh3.googleusercontent.com/a-/AOh14GjcgTSHpoVAOYoex4FY1mNtu0JRvup398eYayQgBw=s64",
      "userId": "05975458465273227746"
     },
     "user_tz": -120
    },
    "id": "riR5wJxd-qS-",
    "outputId": "d4925451-4a3c-4cf1-dd09-8fd446594e62"
   },
   "outputs": [
    {
     "data": {
      "text/plain": [
       "((9452, 13, 13, 30), (4051, 13, 13, 30), (9452,), (4051,))"
      ]
     },
     "execution_count": 15,
     "metadata": {
      "tags": []
     },
     "output_type": "execute_result"
    }
   ],
   "source": [
    "Xtrain, Xtest, ytrain, ytest = splitTrainTestSet(X, y, test_ratio) #Split to train and test sets\n",
    "Xtrain.shape, Xtest.shape, ytrain.shape, ytest.shape"
   ]
  },
  {
   "cell_type": "code",
   "execution_count": 16,
   "metadata": {
    "colab": {
     "base_uri": "https://localhost:8080/"
    },
    "executionInfo": {
     "elapsed": 16879,
     "status": "ok",
     "timestamp": 1604410921742,
     "user": {
      "displayName": "Nikos Sourlos",
      "photoUrl": "https://lh3.googleusercontent.com/a-/AOh14GjcgTSHpoVAOYoex4FY1mNtu0JRvup398eYayQgBw=s64",
      "userId": "05975458465273227746"
     },
     "user_tz": -120
    },
    "id": "abC0bfv6-qTA",
    "outputId": "2d601416-669c-4012-a03d-e36e3f5f9c6d"
   },
   "outputs": [
    {
     "data": {
      "text/plain": [
       "((6301, 13, 13, 30), (3151, 13, 13, 30), (6301,), (3151,))"
      ]
     },
     "execution_count": 16,
     "metadata": {
      "tags": []
     },
     "output_type": "execute_result"
    }
   ],
   "source": [
    "Xtrain, Xval, ytrain, yval=splitTrainTestSet(Xtrain, ytrain, 0.3333) #Split train data to train and validation\n",
    "Xtrain.shape, Xval.shape, ytrain.shape, yval.shape"
   ]
  },
  {
   "cell_type": "markdown",
   "metadata": {
    "id": "-CFuZWaJ-qTE"
   },
   "source": [
    "# Model and Training"
   ]
  },
  {
   "cell_type": "code",
   "execution_count": 17,
   "metadata": {
    "colab": {
     "base_uri": "https://localhost:8080/"
    },
    "executionInfo": {
     "elapsed": 15567,
     "status": "ok",
     "timestamp": 1604410922073,
     "user": {
      "displayName": "Nikos Sourlos",
      "photoUrl": "https://lh3.googleusercontent.com/a-/AOh14GjcgTSHpoVAOYoex4FY1mNtu0JRvup398eYayQgBw=s64",
      "userId": "05975458465273227746"
     },
     "user_tz": -120
    },
    "id": "wXHUfarG-qTF",
    "outputId": "732f70c7-6eb7-4cd6-d1d7-f25c6fffe05a"
   },
   "outputs": [
    {
     "data": {
      "text/plain": [
       "(6301, 13, 13, 30, 1)"
      ]
     },
     "execution_count": 17,
     "metadata": {
      "tags": []
     },
     "output_type": "execute_result"
    }
   ],
   "source": [
    "Xtrain = Xtrain.reshape(-1, windowSize, windowSize, K, 1) #Reshape train data to give them as input to our NN\n",
    "Xtrain.shape"
   ]
  },
  {
   "cell_type": "code",
   "execution_count": 18,
   "metadata": {
    "colab": {
     "base_uri": "https://localhost:8080/"
    },
    "executionInfo": {
     "elapsed": 14052,
     "status": "ok",
     "timestamp": 1604410922074,
     "user": {
      "displayName": "Nikos Sourlos",
      "photoUrl": "https://lh3.googleusercontent.com/a-/AOh14GjcgTSHpoVAOYoex4FY1mNtu0JRvup398eYayQgBw=s64",
      "userId": "05975458465273227746"
     },
     "user_tz": -120
    },
    "id": "BxcibOIM-qTP",
    "outputId": "d6bd6e05-dec7-4598-a530-12ffc9aa000d"
   },
   "outputs": [
    {
     "data": {
      "text/plain": [
       "(6301, 14)"
      ]
     },
     "execution_count": 18,
     "metadata": {
      "tags": []
     },
     "output_type": "execute_result"
    }
   ],
   "source": [
    "ytrain = np_utils.to_categorical(ytrain) #1-hot encoding of training set labels to give them as input to CNN\n",
    "ytrain.shape"
   ]
  },
  {
   "cell_type": "code",
   "execution_count": 19,
   "metadata": {
    "colab": {
     "base_uri": "https://localhost:8080/"
    },
    "executionInfo": {
     "elapsed": 13702,
     "status": "ok",
     "timestamp": 1604410922077,
     "user": {
      "displayName": "Nikos Sourlos",
      "photoUrl": "https://lh3.googleusercontent.com/a-/AOh14GjcgTSHpoVAOYoex4FY1mNtu0JRvup398eYayQgBw=s64",
      "userId": "05975458465273227746"
     },
     "user_tz": -120
    },
    "id": "4u1ygycH-qTS",
    "outputId": "d467f23f-73d5-4740-ea36-eb0cf8b53964"
   },
   "outputs": [
    {
     "data": {
      "text/plain": [
       "array([[0., 0., 0., 0., 0., 0., 0., 0., 0., 0., 0., 0., 0., 1.],\n",
       "       [0., 0., 0., 0., 0., 0., 0., 0., 0., 0., 0., 0., 1., 0.],\n",
       "       [0., 0., 0., 0., 0., 0., 0., 0., 0., 0., 0., 1., 0., 0.],\n",
       "       [0., 0., 0., 0., 0., 0., 0., 0., 0., 0., 1., 0., 0., 0.],\n",
       "       [0., 0., 0., 0., 0., 0., 0., 0., 0., 1., 0., 0., 0., 0.],\n",
       "       [0., 0., 0., 0., 0., 0., 0., 0., 1., 0., 0., 0., 0., 0.],\n",
       "       [0., 0., 0., 0., 0., 0., 0., 1., 0., 0., 0., 0., 0., 0.],\n",
       "       [0., 0., 0., 0., 0., 0., 1., 0., 0., 0., 0., 0., 0., 0.],\n",
       "       [0., 0., 0., 0., 0., 1., 0., 0., 0., 0., 0., 0., 0., 0.],\n",
       "       [0., 0., 0., 0., 1., 0., 0., 0., 0., 0., 0., 0., 0., 0.],\n",
       "       [0., 0., 0., 1., 0., 0., 0., 0., 0., 0., 0., 0., 0., 0.],\n",
       "       [0., 0., 1., 0., 0., 0., 0., 0., 0., 0., 0., 0., 0., 0.],\n",
       "       [0., 1., 0., 0., 0., 0., 0., 0., 0., 0., 0., 0., 0., 0.],\n",
       "       [1., 0., 0., 0., 0., 0., 0., 0., 0., 0., 0., 0., 0., 0.]],\n",
       "      dtype=float32)"
      ]
     },
     "execution_count": 19,
     "metadata": {
      "tags": []
     },
     "output_type": "execute_result"
    }
   ],
   "source": [
    "np.unique(ytrain,axis=0) #To see the encoding labels"
   ]
  },
  {
   "cell_type": "code",
   "execution_count": 20,
   "metadata": {
    "colab": {
     "base_uri": "https://localhost:8080/"
    },
    "executionInfo": {
     "elapsed": 12277,
     "status": "ok",
     "timestamp": 1604410922078,
     "user": {
      "displayName": "Nikos Sourlos",
      "photoUrl": "https://lh3.googleusercontent.com/a-/AOh14GjcgTSHpoVAOYoex4FY1mNtu0JRvup398eYayQgBw=s64",
      "userId": "05975458465273227746"
     },
     "user_tz": -120
    },
    "id": "jyMfmmph-qTU",
    "outputId": "63b44df1-6c98-4c4b-b213-203a9df91bb9"
   },
   "outputs": [
    {
     "data": {
      "text/plain": [
       "(3151, 13, 13, 30, 1)"
      ]
     },
     "execution_count": 20,
     "metadata": {
      "tags": []
     },
     "output_type": "execute_result"
    }
   ],
   "source": [
    "Xval = Xval.reshape(-1, windowSize, windowSize, K, 1) #Same for validation data\n",
    "Xval.shape"
   ]
  },
  {
   "cell_type": "code",
   "execution_count": 21,
   "metadata": {
    "colab": {
     "base_uri": "https://localhost:8080/"
    },
    "executionInfo": {
     "elapsed": 11816,
     "status": "ok",
     "timestamp": 1604410922081,
     "user": {
      "displayName": "Nikos Sourlos",
      "photoUrl": "https://lh3.googleusercontent.com/a-/AOh14GjcgTSHpoVAOYoex4FY1mNtu0JRvup398eYayQgBw=s64",
      "userId": "05975458465273227746"
     },
     "user_tz": -120
    },
    "id": "Pt8tNT2L-qTY",
    "outputId": "fff4342b-30d0-49c8-9353-cc127230eb49"
   },
   "outputs": [
    {
     "data": {
      "text/plain": [
       "(3151, 14)"
      ]
     },
     "execution_count": 21,
     "metadata": {
      "tags": []
     },
     "output_type": "execute_result"
    }
   ],
   "source": [
    "yval = np_utils.to_categorical(yval) #Same encoding for validation data\n",
    "yval.shape"
   ]
  },
  {
   "cell_type": "code",
   "execution_count": 8,
   "metadata": {
    "executionInfo": {
     "elapsed": 1305,
     "status": "ok",
     "timestamp": 1604443295161,
     "user": {
      "displayName": "Nikos Sourlos",
      "photoUrl": "https://lh3.googleusercontent.com/a-/AOh14GjcgTSHpoVAOYoex4FY1mNtu0JRvup398eYayQgBw=s64",
      "userId": "05975458465273227746"
     },
     "user_tz": -120
    },
    "id": "L23lqfkw-qTa"
   },
   "outputs": [],
   "source": [
    "S = windowSize #our window\n",
    "L = 30#X.shape[3] #The spectral dimension\n",
    "output_units = 14 #or 15 if we also want black pixels"
   ]
  },
  {
   "cell_type": "code",
   "execution_count": 9,
   "metadata": {
    "executionInfo": {
     "elapsed": 677,
     "status": "ok",
     "timestamp": 1604443295163,
     "user": {
      "displayName": "Nikos Sourlos",
      "photoUrl": "https://lh3.googleusercontent.com/a-/AOh14GjcgTSHpoVAOYoex4FY1mNtu0JRvup398eYayQgBw=s64",
      "userId": "05975458465273227746"
     },
     "user_tz": -120
    },
    "id": "i27g0tCs-qTc"
   },
   "outputs": [],
   "source": [
    "#Network\n",
    "## input layer\n",
    "input_layer = Input((S, S, L, 1))\n",
    "\n",
    "## convolutional layers\n",
    "conv_layer1 = Conv3D(filters=8, kernel_size=(2, 2, 7), activation='relu')(input_layer)\n",
    "conv_layer2 = Conv3D(filters=16, kernel_size=(2, 2, 5), activation='relu')(conv_layer1)\n",
    "conv_layer3 = Conv3D(filters=32, kernel_size=(3, 3, 3), activation='relu')(conv_layer2)\n",
    "\n",
    "# print(conv_layer3._keras_shape)\n",
    "conv3d_shape = conv_layer3.shape\n",
    "conv_layer3 = Reshape((conv3d_shape[1], conv3d_shape[2], conv3d_shape[3]*conv3d_shape[4]))(conv_layer3)\n",
    "conv_layer4 = Conv2D(filters=64, kernel_size=(3,3), activation='relu')(conv_layer3)\n",
    "\n",
    "flatten_layer = Flatten()(conv_layer4)\n",
    "\n",
    "## fully connected layers\n",
    "dense_layer1 = Dense(units=256, activation='relu')(flatten_layer)\n",
    "dense_layer1 = Dropout(0.4)(dense_layer1)\n",
    "dense_layer2 = Dense(units=128, activation='relu')(dense_layer1)\n",
    "dense_layer2 = Dropout(0.4)(dense_layer2)\n",
    "output_layer = Dense(units=output_units, activation='softmax')(dense_layer2)"
   ]
  },
  {
   "cell_type": "code",
   "execution_count": 10,
   "metadata": {
    "executionInfo": {
     "elapsed": 1345,
     "status": "ok",
     "timestamp": 1604443298137,
     "user": {
      "displayName": "Nikos Sourlos",
      "photoUrl": "https://lh3.googleusercontent.com/a-/AOh14GjcgTSHpoVAOYoex4FY1mNtu0JRvup398eYayQgBw=s64",
      "userId": "05975458465273227746"
     },
     "user_tz": -120
    },
    "id": "ZOlhCakS-qTj"
   },
   "outputs": [],
   "source": [
    "# define the model with input layer and output layer\n",
    "model = Model(inputs=input_layer, outputs=output_layer)"
   ]
  },
  {
   "cell_type": "code",
   "execution_count": 11,
   "metadata": {
    "colab": {
     "base_uri": "https://localhost:8080/"
    },
    "executionInfo": {
     "elapsed": 873,
     "status": "ok",
     "timestamp": 1604443298141,
     "user": {
      "displayName": "Nikos Sourlos",
      "photoUrl": "https://lh3.googleusercontent.com/a-/AOh14GjcgTSHpoVAOYoex4FY1mNtu0JRvup398eYayQgBw=s64",
      "userId": "05975458465273227746"
     },
     "user_tz": -120
    },
    "id": "OKo0ZIlz-qTl",
    "outputId": "f20d5ff8-4e8b-4b14-973b-15c87055fd96"
   },
   "outputs": [
    {
     "name": "stdout",
     "output_type": "stream",
     "text": [
      "Model: \"functional_1\"\n",
      "_________________________________________________________________\n",
      "Layer (type)                 Output Shape              Param #   \n",
      "=================================================================\n",
      "input_1 (InputLayer)         [(None, 13, 13, 30, 1)]   0         \n",
      "_________________________________________________________________\n",
      "conv3d (Conv3D)              (None, 12, 12, 24, 8)     232       \n",
      "_________________________________________________________________\n",
      "conv3d_1 (Conv3D)            (None, 11, 11, 20, 16)    2576      \n",
      "_________________________________________________________________\n",
      "conv3d_2 (Conv3D)            (None, 9, 9, 18, 32)      13856     \n",
      "_________________________________________________________________\n",
      "reshape (Reshape)            (None, 9, 9, 576)         0         \n",
      "_________________________________________________________________\n",
      "conv2d (Conv2D)              (None, 7, 7, 64)          331840    \n",
      "_________________________________________________________________\n",
      "flatten (Flatten)            (None, 3136)              0         \n",
      "_________________________________________________________________\n",
      "dense (Dense)                (None, 256)               803072    \n",
      "_________________________________________________________________\n",
      "dropout (Dropout)            (None, 256)               0         \n",
      "_________________________________________________________________\n",
      "dense_1 (Dense)              (None, 128)               32896     \n",
      "_________________________________________________________________\n",
      "dropout_1 (Dropout)          (None, 128)               0         \n",
      "_________________________________________________________________\n",
      "dense_2 (Dense)              (None, 14)                1806      \n",
      "=================================================================\n",
      "Total params: 1,186,278\n",
      "Trainable params: 1,186,278\n",
      "Non-trainable params: 0\n",
      "_________________________________________________________________\n"
     ]
    }
   ],
   "source": [
    "model.summary() "
   ]
  },
  {
   "cell_type": "code",
   "execution_count": 26,
   "metadata": {
    "executionInfo": {
     "elapsed": 737,
     "status": "ok",
     "timestamp": 1604410605736,
     "user": {
      "displayName": "Nikos Sourlos",
      "photoUrl": "https://lh3.googleusercontent.com/a-/AOh14GjcgTSHpoVAOYoex4FY1mNtu0JRvup398eYayQgBw=s64",
      "userId": "05975458465273227746"
     },
     "user_tz": -120
    },
    "id": "KI7p3FRB-qTo"
   },
   "outputs": [],
   "source": [
    "#Initialize empty list to save the accuracies and losses \n",
    "hisvalloss=[]\n",
    "histrainloss=[]\n",
    "hisvalac=[]\n",
    "histrainac=[]"
   ]
  },
  {
   "cell_type": "code",
   "execution_count": 12,
   "metadata": {
    "executionInfo": {
     "elapsed": 845,
     "status": "ok",
     "timestamp": 1604443366554,
     "user": {
      "displayName": "Nikos Sourlos",
      "photoUrl": "https://lh3.googleusercontent.com/a-/AOh14GjcgTSHpoVAOYoex4FY1mNtu0JRvup398eYayQgBw=s64",
      "userId": "05975458465273227746"
     },
     "user_tz": -120
    },
    "id": "IztwAywP-qTv"
   },
   "outputs": [],
   "source": [
    "# compiling the model\n",
    "adam = Adam(lr=0.00005, decay=1e-06) #good 0.0001\n",
    "model.compile(loss='categorical_crossentropy', optimizer=adam, metrics=['accuracy'])"
   ]
  },
  {
   "cell_type": "code",
   "execution_count": 17,
   "metadata": {
    "colab": {
     "base_uri": "https://localhost:8080/"
    },
    "executionInfo": {
     "elapsed": 2491,
     "status": "ok",
     "timestamp": 1604443406836,
     "user": {
      "displayName": "Nikos Sourlos",
      "photoUrl": "https://lh3.googleusercontent.com/a-/AOh14GjcgTSHpoVAOYoex4FY1mNtu0JRvup398eYayQgBw=s64",
      "userId": "05975458465273227746"
     },
     "user_tz": -120
    },
    "id": "-QnrrMLNAnZF",
    "outputId": "830b4a56-001a-4a6f-a8d5-7f7e28573eec"
   },
   "outputs": [
    {
     "name": "stdout",
     "output_type": "stream",
     "text": [
      "/content/drive\n"
     ]
    }
   ],
   "source": [
    "cd drive"
   ]
  },
  {
   "cell_type": "code",
   "execution_count": 18,
   "metadata": {
    "colab": {
     "base_uri": "https://localhost:8080/"
    },
    "executionInfo": {
     "elapsed": 607,
     "status": "ok",
     "timestamp": 1604443416497,
     "user": {
      "displayName": "Nikos Sourlos",
      "photoUrl": "https://lh3.googleusercontent.com/a-/AOh14GjcgTSHpoVAOYoex4FY1mNtu0JRvup398eYayQgBw=s64",
      "userId": "05975458465273227746"
     },
     "user_tz": -120
    },
    "id": "nHVuPJIH-qTx",
    "outputId": "f90582d6-449d-4034-f815-65c2ec6598fa"
   },
   "outputs": [
    {
     "name": "stdout",
     "output_type": "stream",
     "text": [
      "/content/drive/My Drive\n"
     ]
    }
   ],
   "source": [
    "cd My Drive"
   ]
  },
  {
   "cell_type": "code",
   "execution_count": 19,
   "metadata": {
    "executionInfo": {
     "elapsed": 661,
     "status": "ok",
     "timestamp": 1604443418425,
     "user": {
      "displayName": "Nikos Sourlos",
      "photoUrl": "https://lh3.googleusercontent.com/a-/AOh14GjcgTSHpoVAOYoex4FY1mNtu0JRvup398eYayQgBw=s64",
      "userId": "05975458465273227746"
     },
     "user_tz": -120
    },
    "id": "6wo34NAe-qTz"
   },
   "outputs": [],
   "source": [
    "# checkpoint\n",
    "filepath = \"best_model_Loukiawithvalnewlastbestnoblack.hdf5\"\n",
    "checkpoint = ModelCheckpoint(filepath, monitor='val_accuracy', verbose=1, save_best_only=True, mode='max')\n",
    "callbacks_list = [checkpoint]"
   ]
  },
  {
   "cell_type": "code",
   "execution_count": 32,
   "metadata": {
    "colab": {
     "base_uri": "https://localhost:8080/"
    },
    "executionInfo": {
     "elapsed": 9412520,
     "status": "ok",
     "timestamp": 1604349027403,
     "user": {
      "displayName": "Nikos Sourlos",
      "photoUrl": "https://lh3.googleusercontent.com/a-/AOh14GjcgTSHpoVAOYoex4FY1mNtu0JRvup398eYayQgBw=s64",
      "userId": "05975458465273227746"
     },
     "user_tz": -120
    },
    "id": "j29xzhGH-qT2",
    "outputId": "2f6b9816-df7e-4246-b442-0c3489cdc053"
   },
   "outputs": [
    {
     "name": "stdout",
     "output_type": "stream",
     "text": [
      "Epoch 1/100\n",
      "99/99 [==============================] - ETA: 0s - loss: 2.3147 - accuracy: 0.2427\n",
      "Epoch 00001: val_accuracy improved from -inf to 0.31387, saving model to best_model_Loukiawithvalnewlastbestnoblack.hdf5\n",
      "99/99 [==============================] - 89s 904ms/step - loss: 2.3147 - accuracy: 0.2427 - val_loss: 1.9877 - val_accuracy: 0.3139\n",
      "Epoch 2/100\n",
      "99/99 [==============================] - ETA: 0s - loss: 1.8185 - accuracy: 0.4053\n",
      "Epoch 00002: val_accuracy improved from 0.31387 to 0.64202, saving model to best_model_Loukiawithvalnewlastbestnoblack.hdf5\n",
      "99/99 [==============================] - 93s 938ms/step - loss: 1.8185 - accuracy: 0.4053 - val_loss: 1.2676 - val_accuracy: 0.6420\n",
      "Epoch 3/100\n",
      "99/99 [==============================] - ETA: 0s - loss: 1.3203 - accuracy: 0.5970\n",
      "Epoch 00003: val_accuracy improved from 0.64202 to 0.72199, saving model to best_model_Loukiawithvalnewlastbestnoblack.hdf5\n",
      "99/99 [==============================] - 93s 940ms/step - loss: 1.3203 - accuracy: 0.5970 - val_loss: 0.9333 - val_accuracy: 0.7220\n",
      "Epoch 4/100\n",
      "99/99 [==============================] - ETA: 0s - loss: 1.0871 - accuracy: 0.6577\n",
      "Epoch 00004: val_accuracy improved from 0.72199 to 0.75246, saving model to best_model_Loukiawithvalnewlastbestnoblack.hdf5\n",
      "99/99 [==============================] - 93s 937ms/step - loss: 1.0871 - accuracy: 0.6577 - val_loss: 0.7760 - val_accuracy: 0.7525\n",
      "Epoch 5/100\n",
      "99/99 [==============================] - ETA: 0s - loss: 0.9064 - accuracy: 0.7108\n",
      "Epoch 00005: val_accuracy improved from 0.75246 to 0.80197, saving model to best_model_Loukiawithvalnewlastbestnoblack.hdf5\n",
      "99/99 [==============================] - 93s 937ms/step - loss: 0.9064 - accuracy: 0.7108 - val_loss: 0.6340 - val_accuracy: 0.8020\n",
      "Epoch 6/100\n",
      "99/99 [==============================] - ETA: 0s - loss: 0.7986 - accuracy: 0.7435\n",
      "Epoch 00006: val_accuracy improved from 0.80197 to 0.82704, saving model to best_model_Loukiawithvalnewlastbestnoblack.hdf5\n",
      "99/99 [==============================] - 93s 943ms/step - loss: 0.7986 - accuracy: 0.7435 - val_loss: 0.5498 - val_accuracy: 0.8270\n",
      "Epoch 7/100\n",
      "99/99 [==============================] - ETA: 0s - loss: 0.7038 - accuracy: 0.7751\n",
      "Epoch 00007: val_accuracy improved from 0.82704 to 0.82894, saving model to best_model_Loukiawithvalnewlastbestnoblack.hdf5\n",
      "99/99 [==============================] - 94s 945ms/step - loss: 0.7038 - accuracy: 0.7751 - val_loss: 0.4900 - val_accuracy: 0.8289\n",
      "Epoch 8/100\n",
      "99/99 [==============================] - ETA: 0s - loss: 0.6190 - accuracy: 0.7942\n",
      "Epoch 00008: val_accuracy improved from 0.82894 to 0.85719, saving model to best_model_Loukiawithvalnewlastbestnoblack.hdf5\n",
      "99/99 [==============================] - 94s 946ms/step - loss: 0.6190 - accuracy: 0.7942 - val_loss: 0.4223 - val_accuracy: 0.8572\n",
      "Epoch 9/100\n",
      "99/99 [==============================] - ETA: 0s - loss: 0.5537 - accuracy: 0.8167\n",
      "Epoch 00009: val_accuracy improved from 0.85719 to 0.87401, saving model to best_model_Loukiawithvalnewlastbestnoblack.hdf5\n",
      "99/99 [==============================] - 93s 943ms/step - loss: 0.5537 - accuracy: 0.8167 - val_loss: 0.3675 - val_accuracy: 0.8740\n",
      "Epoch 10/100\n",
      "99/99 [==============================] - ETA: 0s - loss: 0.4964 - accuracy: 0.8345\n",
      "Epoch 00010: val_accuracy improved from 0.87401 to 0.88004, saving model to best_model_Loukiawithvalnewlastbestnoblack.hdf5\n",
      "99/99 [==============================] - 93s 942ms/step - loss: 0.4964 - accuracy: 0.8345 - val_loss: 0.3402 - val_accuracy: 0.8800\n",
      "Epoch 11/100\n",
      "99/99 [==============================] - ETA: 0s - loss: 0.4428 - accuracy: 0.8534\n",
      "Epoch 00011: val_accuracy improved from 0.88004 to 0.90098, saving model to best_model_Loukiawithvalnewlastbestnoblack.hdf5\n",
      "99/99 [==============================] - 93s 939ms/step - loss: 0.4428 - accuracy: 0.8534 - val_loss: 0.3140 - val_accuracy: 0.9010\n",
      "Epoch 12/100\n",
      "99/99 [==============================] - ETA: 0s - loss: 0.4049 - accuracy: 0.8603\n",
      "Epoch 00012: val_accuracy improved from 0.90098 to 0.90352, saving model to best_model_Loukiawithvalnewlastbestnoblack.hdf5\n",
      "99/99 [==============================] - 93s 938ms/step - loss: 0.4049 - accuracy: 0.8603 - val_loss: 0.2834 - val_accuracy: 0.9035\n",
      "Epoch 13/100\n",
      "99/99 [==============================] - ETA: 0s - loss: 0.3673 - accuracy: 0.8792\n",
      "Epoch 00013: val_accuracy improved from 0.90352 to 0.91368, saving model to best_model_Loukiawithvalnewlastbestnoblack.hdf5\n",
      "99/99 [==============================] - 94s 948ms/step - loss: 0.3673 - accuracy: 0.8792 - val_loss: 0.2442 - val_accuracy: 0.9137\n",
      "Epoch 14/100\n",
      "99/99 [==============================] - ETA: 0s - loss: 0.3399 - accuracy: 0.8884\n",
      "Epoch 00014: val_accuracy improved from 0.91368 to 0.92542, saving model to best_model_Loukiawithvalnewlastbestnoblack.hdf5\n",
      "99/99 [==============================] - 93s 940ms/step - loss: 0.3399 - accuracy: 0.8884 - val_loss: 0.2260 - val_accuracy: 0.9254\n",
      "Epoch 15/100\n",
      "99/99 [==============================] - ETA: 0s - loss: 0.3062 - accuracy: 0.8995\n",
      "Epoch 00015: val_accuracy did not improve from 0.92542\n",
      "99/99 [==============================] - 93s 935ms/step - loss: 0.3062 - accuracy: 0.8995 - val_loss: 0.2254 - val_accuracy: 0.9172\n",
      "Epoch 16/100\n",
      "99/99 [==============================] - ETA: 0s - loss: 0.2727 - accuracy: 0.9092\n",
      "Epoch 00016: val_accuracy improved from 0.92542 to 0.92637, saving model to best_model_Loukiawithvalnewlastbestnoblack.hdf5\n",
      "99/99 [==============================] - 93s 940ms/step - loss: 0.2727 - accuracy: 0.9092 - val_loss: 0.1972 - val_accuracy: 0.9264\n",
      "Epoch 17/100\n",
      "99/99 [==============================] - ETA: 0s - loss: 0.2506 - accuracy: 0.9127\n",
      "Epoch 00017: val_accuracy improved from 0.92637 to 0.93272, saving model to best_model_Loukiawithvalnewlastbestnoblack.hdf5\n",
      "99/99 [==============================] - 93s 942ms/step - loss: 0.2506 - accuracy: 0.9127 - val_loss: 0.1984 - val_accuracy: 0.9327\n",
      "Epoch 18/100\n",
      "99/99 [==============================] - ETA: 0s - loss: 0.2268 - accuracy: 0.9222\n",
      "Epoch 00018: val_accuracy improved from 0.93272 to 0.94732, saving model to best_model_Loukiawithvalnewlastbestnoblack.hdf5\n",
      "99/99 [==============================] - 93s 937ms/step - loss: 0.2268 - accuracy: 0.9222 - val_loss: 0.1715 - val_accuracy: 0.9473\n",
      "Epoch 19/100\n",
      "99/99 [==============================] - ETA: 0s - loss: 0.2169 - accuracy: 0.9245\n",
      "Epoch 00019: val_accuracy improved from 0.94732 to 0.94795, saving model to best_model_Loukiawithvalnewlastbestnoblack.hdf5\n",
      "99/99 [==============================] - 93s 944ms/step - loss: 0.2169 - accuracy: 0.9245 - val_loss: 0.1571 - val_accuracy: 0.9480\n",
      "Epoch 20/100\n",
      "99/99 [==============================] - ETA: 0s - loss: 0.1844 - accuracy: 0.9405\n",
      "Epoch 00020: val_accuracy did not improve from 0.94795\n",
      "99/99 [==============================] - 93s 943ms/step - loss: 0.1844 - accuracy: 0.9405 - val_loss: 0.1544 - val_accuracy: 0.9451\n",
      "Epoch 21/100\n",
      "99/99 [==============================] - ETA: 0s - loss: 0.1754 - accuracy: 0.9430\n",
      "Epoch 00021: val_accuracy improved from 0.94795 to 0.95303, saving model to best_model_Loukiawithvalnewlastbestnoblack.hdf5\n",
      "99/99 [==============================] - 94s 947ms/step - loss: 0.1754 - accuracy: 0.9430 - val_loss: 0.1426 - val_accuracy: 0.9530\n",
      "Epoch 22/100\n",
      "99/99 [==============================] - ETA: 0s - loss: 0.1577 - accuracy: 0.9519\n",
      "Epoch 00022: val_accuracy did not improve from 0.95303\n",
      "99/99 [==============================] - 92s 934ms/step - loss: 0.1577 - accuracy: 0.9519 - val_loss: 0.1434 - val_accuracy: 0.9473\n",
      "Epoch 23/100\n",
      "99/99 [==============================] - ETA: 0s - loss: 0.1398 - accuracy: 0.9559\n",
      "Epoch 00023: val_accuracy improved from 0.95303 to 0.96065, saving model to best_model_Loukiawithvalnewlastbestnoblack.hdf5\n",
      "99/99 [==============================] - 93s 940ms/step - loss: 0.1398 - accuracy: 0.9559 - val_loss: 0.1193 - val_accuracy: 0.9606\n",
      "Epoch 24/100\n",
      "99/99 [==============================] - ETA: 0s - loss: 0.1427 - accuracy: 0.9562\n",
      "Epoch 00024: val_accuracy did not improve from 0.96065\n",
      "99/99 [==============================] - 93s 935ms/step - loss: 0.1427 - accuracy: 0.9562 - val_loss: 0.1359 - val_accuracy: 0.9533\n",
      "Epoch 25/100\n",
      "99/99 [==============================] - ETA: 0s - loss: 0.1346 - accuracy: 0.9522\n",
      "Epoch 00025: val_accuracy improved from 0.96065 to 0.96160, saving model to best_model_Loukiawithvalnewlastbestnoblack.hdf5\n",
      "99/99 [==============================] - 93s 936ms/step - loss: 0.1346 - accuracy: 0.9522 - val_loss: 0.1224 - val_accuracy: 0.9616\n",
      "Epoch 26/100\n",
      "99/99 [==============================] - ETA: 0s - loss: 0.1166 - accuracy: 0.9646\n",
      "Epoch 00026: val_accuracy did not improve from 0.96160\n",
      "99/99 [==============================] - 93s 942ms/step - loss: 0.1166 - accuracy: 0.9646 - val_loss: 0.1255 - val_accuracy: 0.9600\n",
      "Epoch 27/100\n",
      "99/99 [==============================] - ETA: 0s - loss: 0.1197 - accuracy: 0.9613\n",
      "Epoch 00027: val_accuracy improved from 0.96160 to 0.96731, saving model to best_model_Loukiawithvalnewlastbestnoblack.hdf5\n",
      "99/99 [==============================] - 94s 947ms/step - loss: 0.1197 - accuracy: 0.9613 - val_loss: 0.1040 - val_accuracy: 0.9673\n",
      "Epoch 28/100\n",
      "99/99 [==============================] - ETA: 0s - loss: 0.0930 - accuracy: 0.9700\n",
      "Epoch 00028: val_accuracy did not improve from 0.96731\n",
      "99/99 [==============================] - 93s 939ms/step - loss: 0.0930 - accuracy: 0.9700 - val_loss: 0.1059 - val_accuracy: 0.9673\n",
      "Epoch 29/100\n",
      "99/99 [==============================] - ETA: 0s - loss: 0.0859 - accuracy: 0.9724\n",
      "Epoch 00029: val_accuracy improved from 0.96731 to 0.96763, saving model to best_model_Loukiawithvalnewlastbestnoblack.hdf5\n",
      "99/99 [==============================] - 93s 936ms/step - loss: 0.0859 - accuracy: 0.9724 - val_loss: 0.1063 - val_accuracy: 0.9676\n",
      "Epoch 30/100\n",
      "99/99 [==============================] - ETA: 0s - loss: 0.0904 - accuracy: 0.9706\n",
      "Epoch 00030: val_accuracy did not improve from 0.96763\n",
      "99/99 [==============================] - 93s 937ms/step - loss: 0.0904 - accuracy: 0.9706 - val_loss: 0.1045 - val_accuracy: 0.9670\n",
      "Epoch 31/100\n",
      "99/99 [==============================] - ETA: 0s - loss: 0.0908 - accuracy: 0.9697\n",
      "Epoch 00031: val_accuracy improved from 0.96763 to 0.96985, saving model to best_model_Loukiawithvalnewlastbestnoblack.hdf5\n",
      "99/99 [==============================] - 93s 935ms/step - loss: 0.0908 - accuracy: 0.9697 - val_loss: 0.0896 - val_accuracy: 0.9699\n",
      "Epoch 32/100\n",
      "99/99 [==============================] - ETA: 0s - loss: 0.0734 - accuracy: 0.9786\n",
      "Epoch 00032: val_accuracy did not improve from 0.96985\n",
      "99/99 [==============================] - 92s 934ms/step - loss: 0.0734 - accuracy: 0.9786 - val_loss: 0.1010 - val_accuracy: 0.9673\n",
      "Epoch 33/100\n",
      "99/99 [==============================] - ETA: 0s - loss: 0.0726 - accuracy: 0.9757\n",
      "Epoch 00033: val_accuracy improved from 0.96985 to 0.97176, saving model to best_model_Loukiawithvalnewlastbestnoblack.hdf5\n",
      "99/99 [==============================] - 94s 946ms/step - loss: 0.0726 - accuracy: 0.9757 - val_loss: 0.0890 - val_accuracy: 0.9718\n",
      "Epoch 34/100\n",
      "99/99 [==============================] - ETA: 0s - loss: 0.0650 - accuracy: 0.9779\n",
      "Epoch 00034: val_accuracy improved from 0.97176 to 0.97556, saving model to best_model_Loukiawithvalnewlastbestnoblack.hdf5\n",
      "99/99 [==============================] - 93s 938ms/step - loss: 0.0650 - accuracy: 0.9779 - val_loss: 0.0838 - val_accuracy: 0.9756\n",
      "Epoch 35/100\n",
      "99/99 [==============================] - ETA: 0s - loss: 0.0721 - accuracy: 0.9781\n",
      "Epoch 00035: val_accuracy did not improve from 0.97556\n",
      "99/99 [==============================] - 94s 946ms/step - loss: 0.0721 - accuracy: 0.9781 - val_loss: 0.0906 - val_accuracy: 0.9683\n",
      "Epoch 36/100\n",
      "99/99 [==============================] - ETA: 0s - loss: 0.0601 - accuracy: 0.9816\n",
      "Epoch 00036: val_accuracy did not improve from 0.97556\n",
      "99/99 [==============================] - 94s 946ms/step - loss: 0.0601 - accuracy: 0.9816 - val_loss: 0.1076 - val_accuracy: 0.9641\n",
      "Epoch 37/100\n",
      "99/99 [==============================] - ETA: 0s - loss: 0.0584 - accuracy: 0.9830\n",
      "Epoch 00037: val_accuracy improved from 0.97556 to 0.97747, saving model to best_model_Loukiawithvalnewlastbestnoblack.hdf5\n",
      "99/99 [==============================] - 94s 950ms/step - loss: 0.0584 - accuracy: 0.9830 - val_loss: 0.0857 - val_accuracy: 0.9775\n",
      "Epoch 38/100\n",
      "99/99 [==============================] - ETA: 0s - loss: 0.0540 - accuracy: 0.9827\n",
      "Epoch 00038: val_accuracy did not improve from 0.97747\n",
      "99/99 [==============================] - 93s 935ms/step - loss: 0.0540 - accuracy: 0.9827 - val_loss: 0.0917 - val_accuracy: 0.9749\n",
      "Epoch 39/100\n",
      "99/99 [==============================] - ETA: 0s - loss: 0.0524 - accuracy: 0.9848\n",
      "Epoch 00039: val_accuracy did not improve from 0.97747\n",
      "99/99 [==============================] - 92s 933ms/step - loss: 0.0524 - accuracy: 0.9848 - val_loss: 0.0837 - val_accuracy: 0.9746\n",
      "Epoch 40/100\n",
      "99/99 [==============================] - ETA: 0s - loss: 0.0549 - accuracy: 0.9821\n",
      "Epoch 00040: val_accuracy did not improve from 0.97747\n",
      "99/99 [==============================] - 93s 937ms/step - loss: 0.0549 - accuracy: 0.9821 - val_loss: 0.0925 - val_accuracy: 0.9718\n",
      "Epoch 41/100\n",
      "99/99 [==============================] - ETA: 0s - loss: 0.0487 - accuracy: 0.9848\n",
      "Epoch 00041: val_accuracy did not improve from 0.97747\n",
      "99/99 [==============================] - 94s 947ms/step - loss: 0.0487 - accuracy: 0.9848 - val_loss: 0.0892 - val_accuracy: 0.9724\n",
      "Epoch 42/100\n",
      "99/99 [==============================] - ETA: 0s - loss: 0.0435 - accuracy: 0.9868\n",
      "Epoch 00042: val_accuracy did not improve from 0.97747\n",
      "99/99 [==============================] - 94s 947ms/step - loss: 0.0435 - accuracy: 0.9868 - val_loss: 0.0777 - val_accuracy: 0.9765\n",
      "Epoch 43/100\n",
      "99/99 [==============================] - ETA: 0s - loss: 0.0445 - accuracy: 0.9864\n",
      "Epoch 00043: val_accuracy did not improve from 0.97747\n",
      "99/99 [==============================] - 94s 953ms/step - loss: 0.0445 - accuracy: 0.9864 - val_loss: 0.0836 - val_accuracy: 0.9752\n",
      "Epoch 44/100\n",
      "99/99 [==============================] - ETA: 0s - loss: 0.0372 - accuracy: 0.9895\n",
      "Epoch 00044: val_accuracy did not improve from 0.97747\n",
      "99/99 [==============================] - 93s 940ms/step - loss: 0.0372 - accuracy: 0.9895 - val_loss: 0.0824 - val_accuracy: 0.9768\n",
      "Epoch 45/100\n",
      "99/99 [==============================] - ETA: 0s - loss: 0.0335 - accuracy: 0.9894\n",
      "Epoch 00045: val_accuracy improved from 0.97747 to 0.97937, saving model to best_model_Loukiawithvalnewlastbestnoblack.hdf5\n",
      "99/99 [==============================] - 93s 944ms/step - loss: 0.0335 - accuracy: 0.9894 - val_loss: 0.0807 - val_accuracy: 0.9794\n",
      "Epoch 46/100\n",
      "99/99 [==============================] - ETA: 0s - loss: 0.0317 - accuracy: 0.9900\n",
      "Epoch 00046: val_accuracy did not improve from 0.97937\n",
      "99/99 [==============================] - 93s 940ms/step - loss: 0.0317 - accuracy: 0.9900 - val_loss: 0.0881 - val_accuracy: 0.9740\n",
      "Epoch 47/100\n",
      "99/99 [==============================] - ETA: 0s - loss: 0.0304 - accuracy: 0.9908\n",
      "Epoch 00047: val_accuracy improved from 0.97937 to 0.98032, saving model to best_model_Loukiawithvalnewlastbestnoblack.hdf5\n",
      "99/99 [==============================] - 94s 946ms/step - loss: 0.0304 - accuracy: 0.9908 - val_loss: 0.0789 - val_accuracy: 0.9803\n",
      "Epoch 48/100\n",
      "99/99 [==============================] - ETA: 0s - loss: 0.0349 - accuracy: 0.9905\n",
      "Epoch 00048: val_accuracy did not improve from 0.98032\n",
      "99/99 [==============================] - 93s 939ms/step - loss: 0.0349 - accuracy: 0.9905 - val_loss: 0.0809 - val_accuracy: 0.9765\n",
      "Epoch 49/100\n",
      "99/99 [==============================] - ETA: 0s - loss: 0.0357 - accuracy: 0.9898\n",
      "Epoch 00049: val_accuracy did not improve from 0.98032\n",
      "99/99 [==============================] - 93s 938ms/step - loss: 0.0357 - accuracy: 0.9898 - val_loss: 0.0790 - val_accuracy: 0.9787\n",
      "Epoch 50/100\n",
      "99/99 [==============================] - ETA: 0s - loss: 0.0304 - accuracy: 0.9919\n",
      "Epoch 00050: val_accuracy improved from 0.98032 to 0.98128, saving model to best_model_Loukiawithvalnewlastbestnoblack.hdf5\n",
      "99/99 [==============================] - 93s 943ms/step - loss: 0.0304 - accuracy: 0.9919 - val_loss: 0.0712 - val_accuracy: 0.9813\n",
      "Epoch 51/100\n",
      "99/99 [==============================] - ETA: 0s - loss: 0.0274 - accuracy: 0.9908\n",
      "Epoch 00051: val_accuracy did not improve from 0.98128\n",
      "99/99 [==============================] - 93s 937ms/step - loss: 0.0274 - accuracy: 0.9908 - val_loss: 0.0889 - val_accuracy: 0.9756\n",
      "Epoch 52/100\n",
      "99/99 [==============================] - ETA: 0s - loss: 0.0344 - accuracy: 0.9895\n",
      "Epoch 00052: val_accuracy did not improve from 0.98128\n",
      "99/99 [==============================] - 93s 940ms/step - loss: 0.0344 - accuracy: 0.9895 - val_loss: 0.1032 - val_accuracy: 0.9718\n",
      "Epoch 53/100\n",
      "99/99 [==============================] - ETA: 0s - loss: 0.0252 - accuracy: 0.9922\n",
      "Epoch 00053: val_accuracy did not improve from 0.98128\n",
      "99/99 [==============================] - 95s 955ms/step - loss: 0.0252 - accuracy: 0.9922 - val_loss: 0.0805 - val_accuracy: 0.9800\n",
      "Epoch 54/100\n",
      "99/99 [==============================] - ETA: 0s - loss: 0.0211 - accuracy: 0.9943\n",
      "Epoch 00054: val_accuracy did not improve from 0.98128\n",
      "99/99 [==============================] - 95s 955ms/step - loss: 0.0211 - accuracy: 0.9943 - val_loss: 0.0830 - val_accuracy: 0.9787\n",
      "Epoch 55/100\n",
      "99/99 [==============================] - ETA: 0s - loss: 0.0210 - accuracy: 0.9938\n",
      "Epoch 00055: val_accuracy did not improve from 0.98128\n",
      "99/99 [==============================] - 93s 943ms/step - loss: 0.0210 - accuracy: 0.9938 - val_loss: 0.0819 - val_accuracy: 0.9794\n",
      "Epoch 56/100\n",
      "99/99 [==============================] - ETA: 0s - loss: 0.0258 - accuracy: 0.9902\n",
      "Epoch 00056: val_accuracy did not improve from 0.98128\n",
      "99/99 [==============================] - 93s 943ms/step - loss: 0.0258 - accuracy: 0.9902 - val_loss: 0.0750 - val_accuracy: 0.9810\n",
      "Epoch 57/100\n",
      "99/99 [==============================] - ETA: 0s - loss: 0.0271 - accuracy: 0.9922\n",
      "Epoch 00057: val_accuracy did not improve from 0.98128\n",
      "99/99 [==============================] - 93s 943ms/step - loss: 0.0271 - accuracy: 0.9922 - val_loss: 0.0845 - val_accuracy: 0.9791\n",
      "Epoch 58/100\n",
      "99/99 [==============================] - ETA: 0s - loss: 0.0229 - accuracy: 0.9930\n",
      "Epoch 00058: val_accuracy did not improve from 0.98128\n",
      "99/99 [==============================] - 93s 942ms/step - loss: 0.0229 - accuracy: 0.9930 - val_loss: 0.0810 - val_accuracy: 0.9813\n",
      "Epoch 59/100\n",
      "99/99 [==============================] - ETA: 0s - loss: 0.0183 - accuracy: 0.9948\n",
      "Epoch 00059: val_accuracy did not improve from 0.98128\n",
      "99/99 [==============================] - 94s 951ms/step - loss: 0.0183 - accuracy: 0.9948 - val_loss: 0.0784 - val_accuracy: 0.9806\n",
      "Epoch 60/100\n",
      "99/99 [==============================] - ETA: 0s - loss: 0.0216 - accuracy: 0.9937\n",
      "Epoch 00060: val_accuracy did not improve from 0.98128\n",
      "99/99 [==============================] - 93s 940ms/step - loss: 0.0216 - accuracy: 0.9937 - val_loss: 0.0919 - val_accuracy: 0.9762\n",
      "Epoch 61/100\n",
      "99/99 [==============================] - ETA: 0s - loss: 0.0197 - accuracy: 0.9946\n",
      "Epoch 00061: val_accuracy did not improve from 0.98128\n",
      "99/99 [==============================] - 94s 946ms/step - loss: 0.0197 - accuracy: 0.9946 - val_loss: 0.0772 - val_accuracy: 0.9813\n",
      "Epoch 62/100\n",
      "99/99 [==============================] - ETA: 0s - loss: 0.0149 - accuracy: 0.9957\n",
      "Epoch 00062: val_accuracy did not improve from 0.98128\n",
      "99/99 [==============================] - 93s 941ms/step - loss: 0.0149 - accuracy: 0.9957 - val_loss: 0.0752 - val_accuracy: 0.9806\n",
      "Epoch 63/100\n",
      "99/99 [==============================] - ETA: 0s - loss: 0.0172 - accuracy: 0.9946\n",
      "Epoch 00063: val_accuracy did not improve from 0.98128\n",
      "99/99 [==============================] - 93s 940ms/step - loss: 0.0172 - accuracy: 0.9946 - val_loss: 0.0987 - val_accuracy: 0.9772\n",
      "Epoch 64/100\n",
      "99/99 [==============================] - ETA: 0s - loss: 0.0166 - accuracy: 0.9954\n",
      "Epoch 00064: val_accuracy did not improve from 0.98128\n",
      "99/99 [==============================] - 93s 943ms/step - loss: 0.0166 - accuracy: 0.9954 - val_loss: 0.0864 - val_accuracy: 0.9794\n",
      "Epoch 65/100\n",
      "99/99 [==============================] - ETA: 0s - loss: 0.0226 - accuracy: 0.9922\n",
      "Epoch 00065: val_accuracy improved from 0.98128 to 0.98223, saving model to best_model_Loukiawithvalnewlastbestnoblack.hdf5\n",
      "99/99 [==============================] - 94s 950ms/step - loss: 0.0226 - accuracy: 0.9922 - val_loss: 0.0726 - val_accuracy: 0.9822\n",
      "Epoch 66/100\n",
      "99/99 [==============================] - ETA: 0s - loss: 0.0152 - accuracy: 0.9952\n",
      "Epoch 00066: val_accuracy did not improve from 0.98223\n",
      "99/99 [==============================] - 93s 942ms/step - loss: 0.0152 - accuracy: 0.9952 - val_loss: 0.0835 - val_accuracy: 0.9806\n",
      "Epoch 67/100\n",
      "99/99 [==============================] - ETA: 0s - loss: 0.0140 - accuracy: 0.9962\n",
      "Epoch 00067: val_accuracy did not improve from 0.98223\n",
      "99/99 [==============================] - 93s 944ms/step - loss: 0.0140 - accuracy: 0.9962 - val_loss: 0.0899 - val_accuracy: 0.9800\n",
      "Epoch 68/100\n",
      "99/99 [==============================] - ETA: 0s - loss: 0.0158 - accuracy: 0.9954\n",
      "Epoch 00068: val_accuracy did not improve from 0.98223\n",
      "99/99 [==============================] - 93s 944ms/step - loss: 0.0158 - accuracy: 0.9954 - val_loss: 0.0926 - val_accuracy: 0.9803\n",
      "Epoch 69/100\n",
      "99/99 [==============================] - ETA: 0s - loss: 0.0190 - accuracy: 0.9949\n",
      "Epoch 00069: val_accuracy did not improve from 0.98223\n",
      "99/99 [==============================] - 93s 943ms/step - loss: 0.0190 - accuracy: 0.9949 - val_loss: 0.0872 - val_accuracy: 0.9819\n",
      "Epoch 70/100\n",
      "99/99 [==============================] - ETA: 0s - loss: 0.0213 - accuracy: 0.9933\n",
      "Epoch 00070: val_accuracy did not improve from 0.98223\n",
      "99/99 [==============================] - 94s 945ms/step - loss: 0.0213 - accuracy: 0.9933 - val_loss: 0.0943 - val_accuracy: 0.9775\n",
      "Epoch 71/100\n",
      "99/99 [==============================] - ETA: 0s - loss: 0.0188 - accuracy: 0.9938\n",
      "Epoch 00071: val_accuracy did not improve from 0.98223\n",
      "99/99 [==============================] - 94s 946ms/step - loss: 0.0188 - accuracy: 0.9938 - val_loss: 0.0856 - val_accuracy: 0.9810\n",
      "Epoch 72/100\n",
      "99/99 [==============================] - ETA: 0s - loss: 0.0194 - accuracy: 0.9951\n",
      "Epoch 00072: val_accuracy improved from 0.98223 to 0.98286, saving model to best_model_Loukiawithvalnewlastbestnoblack.hdf5\n",
      "99/99 [==============================] - 93s 943ms/step - loss: 0.0194 - accuracy: 0.9951 - val_loss: 0.0781 - val_accuracy: 0.9829\n",
      "Epoch 73/100\n",
      "99/99 [==============================] - ETA: 0s - loss: 0.0139 - accuracy: 0.9962\n",
      "Epoch 00073: val_accuracy did not improve from 0.98286\n",
      "99/99 [==============================] - 93s 940ms/step - loss: 0.0139 - accuracy: 0.9962 - val_loss: 0.0812 - val_accuracy: 0.9813\n",
      "Epoch 74/100\n",
      "99/99 [==============================] - ETA: 0s - loss: 0.0181 - accuracy: 0.9954\n",
      "Epoch 00074: val_accuracy improved from 0.98286 to 0.98413, saving model to best_model_Loukiawithvalnewlastbestnoblack.hdf5\n",
      "99/99 [==============================] - 93s 942ms/step - loss: 0.0181 - accuracy: 0.9954 - val_loss: 0.0743 - val_accuracy: 0.9841\n",
      "Epoch 75/100\n",
      "99/99 [==============================] - ETA: 0s - loss: 0.0150 - accuracy: 0.9946\n",
      "Epoch 00075: val_accuracy did not improve from 0.98413\n",
      "99/99 [==============================] - 93s 940ms/step - loss: 0.0150 - accuracy: 0.9946 - val_loss: 0.0880 - val_accuracy: 0.9800\n",
      "Epoch 76/100\n",
      "99/99 [==============================] - ETA: 0s - loss: 0.0104 - accuracy: 0.9973\n",
      "Epoch 00076: val_accuracy did not improve from 0.98413\n",
      "99/99 [==============================] - 93s 941ms/step - loss: 0.0104 - accuracy: 0.9973 - val_loss: 0.0884 - val_accuracy: 0.9810\n",
      "Epoch 77/100\n",
      "99/99 [==============================] - ETA: 0s - loss: 0.0113 - accuracy: 0.9968\n",
      "Epoch 00077: val_accuracy improved from 0.98413 to 0.98445, saving model to best_model_Loukiawithvalnewlastbestnoblack.hdf5\n",
      "99/99 [==============================] - 94s 953ms/step - loss: 0.0113 - accuracy: 0.9968 - val_loss: 0.0824 - val_accuracy: 0.9844\n",
      "Epoch 78/100\n",
      "99/99 [==============================] - ETA: 0s - loss: 0.0136 - accuracy: 0.9967\n",
      "Epoch 00078: val_accuracy did not improve from 0.98445\n",
      "99/99 [==============================] - 93s 940ms/step - loss: 0.0136 - accuracy: 0.9967 - val_loss: 0.0788 - val_accuracy: 0.9822\n",
      "Epoch 79/100\n",
      "99/99 [==============================] - ETA: 0s - loss: 0.0117 - accuracy: 0.9971\n",
      "Epoch 00079: val_accuracy did not improve from 0.98445\n",
      "99/99 [==============================] - 93s 939ms/step - loss: 0.0117 - accuracy: 0.9971 - val_loss: 0.0835 - val_accuracy: 0.9822\n",
      "Epoch 80/100\n",
      "99/99 [==============================] - ETA: 0s - loss: 0.0125 - accuracy: 0.9960\n",
      "Epoch 00080: val_accuracy did not improve from 0.98445\n",
      "99/99 [==============================] - 93s 942ms/step - loss: 0.0125 - accuracy: 0.9960 - val_loss: 0.0818 - val_accuracy: 0.9835\n",
      "Epoch 81/100\n",
      "99/99 [==============================] - ETA: 0s - loss: 0.0133 - accuracy: 0.9962\n",
      "Epoch 00081: val_accuracy did not improve from 0.98445\n",
      "99/99 [==============================] - 94s 947ms/step - loss: 0.0133 - accuracy: 0.9962 - val_loss: 0.0756 - val_accuracy: 0.9838\n",
      "Epoch 82/100\n",
      "99/99 [==============================] - ETA: 0s - loss: 0.0145 - accuracy: 0.9951\n",
      "Epoch 00082: val_accuracy did not improve from 0.98445\n",
      "99/99 [==============================] - 94s 948ms/step - loss: 0.0145 - accuracy: 0.9951 - val_loss: 0.0901 - val_accuracy: 0.9784\n",
      "Epoch 83/100\n",
      "99/99 [==============================] - ETA: 0s - loss: 0.0158 - accuracy: 0.9965\n",
      "Epoch 00083: val_accuracy did not improve from 0.98445\n",
      "99/99 [==============================] - 94s 947ms/step - loss: 0.0158 - accuracy: 0.9965 - val_loss: 0.0954 - val_accuracy: 0.9806\n",
      "Epoch 84/100\n",
      "99/99 [==============================] - ETA: 0s - loss: 0.0119 - accuracy: 0.9971\n",
      "Epoch 00084: val_accuracy did not improve from 0.98445\n",
      "99/99 [==============================] - 93s 942ms/step - loss: 0.0119 - accuracy: 0.9971 - val_loss: 0.0814 - val_accuracy: 0.9825\n",
      "Epoch 85/100\n",
      "99/99 [==============================] - ETA: 0s - loss: 0.0109 - accuracy: 0.9965\n",
      "Epoch 00085: val_accuracy did not improve from 0.98445\n",
      "99/99 [==============================] - 93s 944ms/step - loss: 0.0109 - accuracy: 0.9965 - val_loss: 0.0890 - val_accuracy: 0.9797\n",
      "Epoch 86/100\n",
      "99/99 [==============================] - ETA: 0s - loss: 0.0098 - accuracy: 0.9973\n",
      "Epoch 00086: val_accuracy did not improve from 0.98445\n",
      "99/99 [==============================] - 93s 942ms/step - loss: 0.0098 - accuracy: 0.9973 - val_loss: 0.0783 - val_accuracy: 0.9832\n",
      "Epoch 87/100\n",
      "99/99 [==============================] - ETA: 0s - loss: 0.0066 - accuracy: 0.9978\n",
      "Epoch 00087: val_accuracy did not improve from 0.98445\n",
      "99/99 [==============================] - 94s 947ms/step - loss: 0.0066 - accuracy: 0.9978 - val_loss: 0.0810 - val_accuracy: 0.9844\n",
      "Epoch 88/100\n",
      "99/99 [==============================] - ETA: 0s - loss: 0.0052 - accuracy: 0.9987\n",
      "Epoch 00088: val_accuracy did not improve from 0.98445\n",
      "99/99 [==============================] - 93s 943ms/step - loss: 0.0052 - accuracy: 0.9987 - val_loss: 0.1063 - val_accuracy: 0.9797\n",
      "Epoch 89/100\n",
      "99/99 [==============================] - ETA: 0s - loss: 0.0089 - accuracy: 0.9970\n",
      "Epoch 00089: val_accuracy did not improve from 0.98445\n",
      "99/99 [==============================] - 94s 945ms/step - loss: 0.0089 - accuracy: 0.9970 - val_loss: 0.0810 - val_accuracy: 0.9844\n",
      "Epoch 90/100\n",
      "99/99 [==============================] - ETA: 0s - loss: 0.0115 - accuracy: 0.9956\n",
      "Epoch 00090: val_accuracy did not improve from 0.98445\n",
      "99/99 [==============================] - 94s 952ms/step - loss: 0.0115 - accuracy: 0.9956 - val_loss: 0.0918 - val_accuracy: 0.9819\n",
      "Epoch 91/100\n",
      "99/99 [==============================] - ETA: 0s - loss: 0.0084 - accuracy: 0.9975\n",
      "Epoch 00091: val_accuracy improved from 0.98445 to 0.98604, saving model to best_model_Loukiawithvalnewlastbestnoblack.hdf5\n",
      "99/99 [==============================] - 93s 944ms/step - loss: 0.0084 - accuracy: 0.9975 - val_loss: 0.0758 - val_accuracy: 0.9860\n",
      "Epoch 92/100\n",
      "99/99 [==============================] - ETA: 0s - loss: 0.0077 - accuracy: 0.9973\n",
      "Epoch 00092: val_accuracy did not improve from 0.98604\n",
      "99/99 [==============================] - 93s 939ms/step - loss: 0.0077 - accuracy: 0.9973 - val_loss: 0.0827 - val_accuracy: 0.9829\n",
      "Epoch 93/100\n",
      "99/99 [==============================] - ETA: 0s - loss: 0.0084 - accuracy: 0.9976\n",
      "Epoch 00093: val_accuracy did not improve from 0.98604\n",
      "99/99 [==============================] - 93s 937ms/step - loss: 0.0084 - accuracy: 0.9976 - val_loss: 0.0816 - val_accuracy: 0.9848\n",
      "Epoch 94/100\n",
      "99/99 [==============================] - ETA: 0s - loss: 0.0140 - accuracy: 0.9957\n",
      "Epoch 00094: val_accuracy did not improve from 0.98604\n",
      "99/99 [==============================] - 93s 937ms/step - loss: 0.0140 - accuracy: 0.9957 - val_loss: 0.0901 - val_accuracy: 0.9791\n",
      "Epoch 95/100\n",
      "99/99 [==============================] - ETA: 0s - loss: 0.0157 - accuracy: 0.9952\n",
      "Epoch 00095: val_accuracy did not improve from 0.98604\n",
      "99/99 [==============================] - 93s 939ms/step - loss: 0.0157 - accuracy: 0.9952 - val_loss: 0.0852 - val_accuracy: 0.9841\n",
      "Epoch 96/100\n",
      "99/99 [==============================] - ETA: 0s - loss: 0.0101 - accuracy: 0.9967\n",
      "Epoch 00096: val_accuracy did not improve from 0.98604\n",
      "99/99 [==============================] - 93s 938ms/step - loss: 0.0101 - accuracy: 0.9967 - val_loss: 0.0849 - val_accuracy: 0.9835\n",
      "Epoch 97/100\n",
      "99/99 [==============================] - ETA: 0s - loss: 0.0061 - accuracy: 0.9987\n",
      "Epoch 00097: val_accuracy did not improve from 0.98604\n",
      "99/99 [==============================] - 94s 947ms/step - loss: 0.0061 - accuracy: 0.9987 - val_loss: 0.0943 - val_accuracy: 0.9797\n",
      "Epoch 98/100\n",
      "99/99 [==============================] - ETA: 0s - loss: 0.0056 - accuracy: 0.9986\n",
      "Epoch 00098: val_accuracy did not improve from 0.98604\n",
      "99/99 [==============================] - 95s 960ms/step - loss: 0.0056 - accuracy: 0.9986 - val_loss: 0.0915 - val_accuracy: 0.9806\n",
      "Epoch 99/100\n",
      "99/99 [==============================] - ETA: 0s - loss: 0.0091 - accuracy: 0.9973\n",
      "Epoch 00099: val_accuracy did not improve from 0.98604\n",
      "99/99 [==============================] - 93s 942ms/step - loss: 0.0091 - accuracy: 0.9973 - val_loss: 0.0971 - val_accuracy: 0.9794\n",
      "Epoch 100/100\n",
      "99/99 [==============================] - ETA: 0s - loss: 0.0080 - accuracy: 0.9979\n",
      "Epoch 00100: val_accuracy did not improve from 0.98604\n",
      "99/99 [==============================] - 93s 942ms/step - loss: 0.0080 - accuracy: 0.9979 - val_loss: 0.0834 - val_accuracy: 0.9832\n"
     ]
    }
   ],
   "source": [
    "history = model.fit(x=Xtrain, y=ytrain, validation_data=(Xval, yval), \n",
    "                    batch_size=64, epochs=100, callbacks=callbacks_list) #batch 256 initially to train the model"
   ]
  },
  {
   "cell_type": "code",
   "execution_count": 33,
   "metadata": {
    "executionInfo": {
     "elapsed": 9411165,
     "status": "ok",
     "timestamp": 1604349027411,
     "user": {
      "displayName": "Nikos Sourlos",
      "photoUrl": "https://lh3.googleusercontent.com/a-/AOh14GjcgTSHpoVAOYoex4FY1mNtu0JRvup398eYayQgBw=s64",
      "userId": "05975458465273227746"
     },
     "user_tz": -120
    },
    "id": "cPTtxZ2E-qT5"
   },
   "outputs": [],
   "source": [
    "#Every time we try we keep the history of accuracies and losses and append new elements at the end\n",
    "hisvalloss.extend(history.history['val_loss'])\n",
    "histrainloss.extend(history.history['loss'])\n",
    "hisvalac.extend(history.history['val_accuracy'])\n",
    "histrainac.extend(history.history['accuracy'])"
   ]
  },
  {
   "cell_type": "code",
   "execution_count": 34,
   "metadata": {
    "colab": {
     "base_uri": "https://localhost:8080/",
     "height": 442
    },
    "executionInfo": {
     "elapsed": 9410982,
     "status": "ok",
     "timestamp": 1604349027755,
     "user": {
      "displayName": "Nikos Sourlos",
      "photoUrl": "https://lh3.googleusercontent.com/a-/AOh14GjcgTSHpoVAOYoex4FY1mNtu0JRvup398eYayQgBw=s64",
      "userId": "05975458465273227746"
     },
     "user_tz": -120
    },
    "id": "9_agD8CQ-qT8",
    "outputId": "1c2d1b75-2fdd-48be-979c-08e6eee35e04"
   },
   "outputs": [
    {
     "data": {
      "image/png": "[encoded data removed]",
      "text/plain": [
       "<Figure size 504x504 with 1 Axes>"
      ]
     },
     "metadata": {
      "needs_background": "light",
      "tags": []
     },
     "output_type": "display_data"
    }
   ],
   "source": [
    "#Plot validation and training accuracy\n",
    "plt.figure(figsize=(7,7))\n",
    "plt.grid()\n",
    "plt.plot(histrainloss)#history.history['loss'])\n",
    "plt.plot(hisvalloss)#history.history['val_loss'])\n",
    "plt.ylabel('Loss')\n",
    "plt.xlabel('Epochs')\n",
    "plt.legend(['Training','Validation'], loc='upper right')\n",
    "plt.savefig(\"loss_curve.pdf\")\n",
    "plt.show()"
   ]
  },
  {
   "cell_type": "code",
   "execution_count": 35,
   "metadata": {
    "colab": {
     "base_uri": "https://localhost:8080/",
     "height": 334
    },
    "executionInfo": {
     "elapsed": 9410508,
     "status": "ok",
     "timestamp": 1604349027764,
     "user": {
      "displayName": "Nikos Sourlos",
      "photoUrl": "https://lh3.googleusercontent.com/a-/AOh14GjcgTSHpoVAOYoex4FY1mNtu0JRvup398eYayQgBw=s64",
      "userId": "05975458465273227746"
     },
     "user_tz": -120
    },
    "id": "v9J3WxcN-qUA",
    "outputId": "2d4cecfe-cc5d-457f-f832-cbea801e73fd"
   },
   "outputs": [
    {
     "data": {
      "image/png": "[encoded data removed]",
      "text/plain": [
       "<Figure size 360x360 with 1 Axes>"
      ]
     },
     "metadata": {
      "needs_background": "light",
      "tags": []
     },
     "output_type": "display_data"
    }
   ],
   "source": [
    "#Plot validation and training loss\n",
    "plt.figure(figsize=(5,5))\n",
    "plt.ylim(0,1.1)\n",
    "plt.grid()\n",
    "plt.plot(hisvalac)#history.history['accuracy'])\n",
    "plt.plot(histrainac)#history.history['val_accuracy'])\n",
    "plt.ylabel('Accuracy')\n",
    "plt.xlabel('Epochs')\n",
    "plt.legend(['Validation','Training'])#,'Validation'])\n",
    "plt.savefig(\"acc_curve.pdf\")\n",
    "plt.show()"
   ]
  },
  {
   "cell_type": "code",
   "execution_count": 36,
   "metadata": {
    "executionInfo": {
     "elapsed": 9410005,
     "status": "ok",
     "timestamp": 1604349027766,
     "user": {
      "displayName": "Nikos Sourlos",
      "photoUrl": "https://lh3.googleusercontent.com/a-/AOh14GjcgTSHpoVAOYoex4FY1mNtu0JRvup398eYayQgBw=s64",
      "userId": "05975458465273227746"
     },
     "user_tz": -120
    },
    "id": "bTbQImOykVTC"
   },
   "outputs": [],
   "source": [
    "#Save all these accuracies and losses to numpy arrays\n",
    "np.save('Xvalloss',hisvalloss)\n",
    "np.save('Xvalac',hisvalac)\n",
    "np.save('Xtrainloss',histrainloss)\n",
    "np.save('Xtrainac',histrainac)"
   ]
  },
  {
   "cell_type": "markdown",
   "metadata": {
    "id": "wNS9UCdV-qUC"
   },
   "source": [
    "# Validation"
   ]
  },
  {
   "cell_type": "code",
   "execution_count": 20,
   "metadata": {
    "executionInfo": {
     "elapsed": 1175,
     "status": "ok",
     "timestamp": 1604443427557,
     "user": {
      "displayName": "Nikos Sourlos",
      "photoUrl": "https://lh3.googleusercontent.com/a-/AOh14GjcgTSHpoVAOYoex4FY1mNtu0JRvup398eYayQgBw=s64",
      "userId": "05975458465273227746"
     },
     "user_tz": -120
    },
    "id": "eL8J0ZHH-qUD"
   },
   "outputs": [],
   "source": [
    "# load best weights\n",
    "model.load_weights(\"best_model_Loukiawithvalnewlastbestnoblack.hdf5\")\n",
    "model.compile(loss='categorical_crossentropy', optimizer=adam, metrics=['accuracy'])"
   ]
  },
  {
   "cell_type": "code",
   "execution_count": 37,
   "metadata": {
    "executionInfo": {
     "elapsed": 9405588,
     "status": "ok",
     "timestamp": 1604349029530,
     "user": {
      "displayName": "Nikos Sourlos",
      "photoUrl": "https://lh3.googleusercontent.com/a-/AOh14GjcgTSHpoVAOYoex4FY1mNtu0JRvup398eYayQgBw=s64",
      "userId": "05975458465273227746"
     },
     "user_tz": -120
    },
    "id": "u9_s5tOopq9m"
   },
   "outputs": [],
   "source": [
    "#Save all training, validation and testing data as they are for reproducing results\n",
    "np.save('Xtrain',Xtest)\n",
    "np.save('ytrain',ytrain)\n",
    "np.save('Xval',Xval)\n",
    "np.save('yval',yval)\n",
    "np.save('Xtest',Xtest)\n",
    "np.save('ytest',ytest)"
   ]
  },
  {
   "cell_type": "code",
   "execution_count": 21,
   "metadata": {
    "executionInfo": {
     "elapsed": 2552,
     "status": "ok",
     "timestamp": 1604443508803,
     "user": {
      "displayName": "Nikos Sourlos",
      "photoUrl": "https://lh3.googleusercontent.com/a-/AOh14GjcgTSHpoVAOYoex4FY1mNtu0JRvup398eYayQgBw=s64",
      "userId": "05975458465273227746"
     },
     "user_tz": -120
    },
    "id": "VRHcApe-TXj6"
   },
   "outputs": [],
   "source": [
    "#Load test data and labels\n",
    "Xtest=np.load('Xtest.npy')\n",
    "ytest=np.load('ytest.npy')"
   ]
  },
  {
   "cell_type": "code",
   "execution_count": 32,
   "metadata": {
    "colab": {
     "base_uri": "https://localhost:8080/"
    },
    "executionInfo": {
     "elapsed": 3390,
     "status": "ok",
     "timestamp": 1604410930029,
     "user": {
      "displayName": "Nikos Sourlos",
      "photoUrl": "https://lh3.googleusercontent.com/a-/AOh14GjcgTSHpoVAOYoex4FY1mNtu0JRvup398eYayQgBw=s64",
      "userId": "05975458465273227746"
     },
     "user_tz": -120
    },
    "id": "NeTjxrmS-qUF",
    "outputId": "3e63ef3b-269b-43cf-84e1-8205ec5eb955"
   },
   "outputs": [
    {
     "data": {
      "text/plain": [
       "(4051, 13, 13, 30, 1)"
      ]
     },
     "execution_count": 32,
     "metadata": {
      "tags": []
     },
     "output_type": "execute_result"
    }
   ],
   "source": [
    "Xtest = Xtest.reshape(-1, windowSize, windowSize, K, 1) #Reshape test data to input them in the model for predictions\n",
    "Xtest.shape"
   ]
  },
  {
   "cell_type": "code",
   "execution_count": 33,
   "metadata": {
    "colab": {
     "base_uri": "https://localhost:8080/"
    },
    "executionInfo": {
     "elapsed": 2833,
     "status": "ok",
     "timestamp": 1604410930031,
     "user": {
      "displayName": "Nikos Sourlos",
      "photoUrl": "https://lh3.googleusercontent.com/a-/AOh14GjcgTSHpoVAOYoex4FY1mNtu0JRvup398eYayQgBw=s64",
      "userId": "05975458465273227746"
     },
     "user_tz": -120
    },
    "id": "OI0eGgr7-qUI",
    "outputId": "a2befec3-d491-4480-8ffa-5a41ef4f90f6"
   },
   "outputs": [
    {
     "data": {
      "text/plain": [
       "(4051, 14)"
      ]
     },
     "execution_count": 33,
     "metadata": {
      "tags": []
     },
     "output_type": "execute_result"
    }
   ],
   "source": [
    "ytest = np_utils.to_categorical(ytest) #Make the test labels to 1-hot encodings to compare with model predictions\n",
    "ytest.shape"
   ]
  },
  {
   "cell_type": "code",
   "execution_count": 34,
   "metadata": {
    "colab": {
     "base_uri": "https://localhost:8080/"
    },
    "executionInfo": {
     "elapsed": 2156,
     "status": "ok",
     "timestamp": 1604410930033,
     "user": {
      "displayName": "Nikos Sourlos",
      "photoUrl": "https://lh3.googleusercontent.com/a-/AOh14GjcgTSHpoVAOYoex4FY1mNtu0JRvup398eYayQgBw=s64",
      "userId": "05975458465273227746"
     },
     "user_tz": -120
    },
    "id": "RvpVBaUq-qUM",
    "outputId": "a9946e93-e419-455b-9a14-92d1bbb1cbef"
   },
   "outputs": [
    {
     "data": {
      "text/plain": [
       "array([[0., 0., 0., 0., 0., 0., 0., 0., 0., 0., 0., 0., 0., 1.],\n",
       "       [0., 0., 0., 0., 0., 0., 0., 0., 0., 0., 0., 0., 1., 0.],\n",
       "       [0., 0., 0., 0., 0., 0., 0., 0., 0., 0., 0., 1., 0., 0.],\n",
       "       [0., 0., 0., 0., 0., 0., 0., 0., 0., 0., 1., 0., 0., 0.],\n",
       "       [0., 0., 0., 0., 0., 0., 0., 0., 0., 1., 0., 0., 0., 0.],\n",
       "       [0., 0., 0., 0., 0., 0., 0., 0., 1., 0., 0., 0., 0., 0.],\n",
       "       [0., 0., 0., 0., 0., 0., 0., 1., 0., 0., 0., 0., 0., 0.],\n",
       "       [0., 0., 0., 0., 0., 0., 1., 0., 0., 0., 0., 0., 0., 0.],\n",
       "       [0., 0., 0., 0., 0., 1., 0., 0., 0., 0., 0., 0., 0., 0.],\n",
       "       [0., 0., 0., 0., 1., 0., 0., 0., 0., 0., 0., 0., 0., 0.],\n",
       "       [0., 0., 0., 1., 0., 0., 0., 0., 0., 0., 0., 0., 0., 0.],\n",
       "       [0., 0., 1., 0., 0., 0., 0., 0., 0., 0., 0., 0., 0., 0.],\n",
       "       [0., 1., 0., 0., 0., 0., 0., 0., 0., 0., 0., 0., 0., 0.],\n",
       "       [1., 0., 0., 0., 0., 0., 0., 0., 0., 0., 0., 0., 0., 0.]],\n",
       "      dtype=float32)"
      ]
     },
     "execution_count": 34,
     "metadata": {
      "tags": []
     },
     "output_type": "execute_result"
    }
   ],
   "source": [
    "np.unique(ytest,axis=0) #To see the labels"
   ]
  },
  {
   "cell_type": "code",
   "execution_count": 31,
   "metadata": {
    "colab": {
     "base_uri": "https://localhost:8080/"
    },
    "executionInfo": {
     "elapsed": 15938,
     "status": "ok",
     "timestamp": 1604398423416,
     "user": {
      "displayName": "Nikos Sourlos",
      "photoUrl": "https://lh3.googleusercontent.com/a-/AOh14GjcgTSHpoVAOYoex4FY1mNtu0JRvup398eYayQgBw=s64",
      "userId": "05975458465273227746"
     },
     "user_tz": -120
    },
    "id": "qz8bA42G-qUR",
    "outputId": "f993dd8b-68d0-4680-8e98-4ebf5ae89a4b"
   },
   "outputs": [
    {
     "name": "stdout",
     "output_type": "stream",
     "text": [
      "              precision    recall  f1-score   support\n",
      "\n",
      "           0       0.96      0.95      0.96        86\n",
      "           1       1.00      1.00      1.00        20\n",
      "           2       0.98      0.97      0.98       163\n",
      "           3       0.91      0.88      0.89        24\n",
      "           4       0.97      0.99      0.98       420\n",
      "           5       0.97      0.96      0.96        67\n",
      "           6       1.00      0.98      0.99       150\n",
      "           7       0.99      0.98      0.99       322\n",
      "           8       0.97      0.99      0.98      1138\n",
      "           9       0.98      0.97      0.97       841\n",
      "          10       0.99      0.98      0.98       121\n",
      "          11       0.99      0.99      0.99       146\n",
      "          12       1.00      1.00      1.00       418\n",
      "          13       1.00      1.00      1.00       135\n",
      "\n",
      "    accuracy                           0.98      4051\n",
      "   macro avg       0.98      0.97      0.98      4051\n",
      "weighted avg       0.98      0.98      0.98      4051\n",
      "\n"
     ]
    }
   ],
   "source": [
    "Y_pred_test = model.predict(Xtest) #Model predictions\n",
    "y_pred_test = np.argmax(Y_pred_test, axis=1) #Keep only the highest prediction at each pixel\n",
    "\n",
    "classification = classification_report(np.argmax(ytest, axis=1), y_pred_test) #Classification report for each label\n",
    "print(classification)"
   ]
  },
  {
   "cell_type": "code",
   "execution_count": 35,
   "metadata": {
    "executionInfo": {
     "elapsed": 749,
     "status": "ok",
     "timestamp": 1604410931925,
     "user": {
      "displayName": "Nikos Sourlos",
      "photoUrl": "https://lh3.googleusercontent.com/a-/AOh14GjcgTSHpoVAOYoex4FY1mNtu0JRvup398eYayQgBw=s64",
      "userId": "05975458465273227746"
     },
     "user_tz": -120
    },
    "id": "FaK3PG40-qUV"
   },
   "outputs": [],
   "source": [
    "def AA_andEachClassAccuracy(confusion_matrix): #To get total accuracy and accuracy for each class\n",
    "    counter = confusion_matrix.shape[0]\n",
    "    list_diag = np.diag(confusion_matrix)\n",
    "    list_raw_sum = np.sum(confusion_matrix, axis=1)\n",
    "    each_acc = np.nan_to_num(truediv(list_diag, list_raw_sum))\n",
    "    average_acc = np.mean(each_acc)\n",
    "    return each_acc, average_acc"
   ]
  },
  {
   "cell_type": "code",
   "execution_count": 33,
   "metadata": {
    "colab": {
     "base_uri": "https://localhost:8080/"
    },
    "executionInfo": {
     "elapsed": 8590,
     "status": "ok",
     "timestamp": 1604398423418,
     "user": {
      "displayName": "Nikos Sourlos",
      "photoUrl": "https://lh3.googleusercontent.com/a-/AOh14GjcgTSHpoVAOYoex4FY1mNtu0JRvup398eYayQgBw=s64",
      "userId": "05975458465273227746"
     },
     "user_tz": -120
    },
    "id": "Z2tkaBNs-qUZ",
    "outputId": "477e78c1-7a59-4b44-ebf5-5455a5b30109"
   },
   "outputs": [
    {
     "data": {
      "text/plain": [
       "(4051, 14)"
      ]
     },
     "execution_count": 33,
     "metadata": {
      "tags": []
     },
     "output_type": "execute_result"
    }
   ],
   "source": [
    "Y_pred_test.shape"
   ]
  },
  {
   "cell_type": "code",
   "execution_count": 34,
   "metadata": {
    "colab": {
     "base_uri": "https://localhost:8080/"
    },
    "executionInfo": {
     "elapsed": 8214,
     "status": "ok",
     "timestamp": 1604398423419,
     "user": {
      "displayName": "Nikos Sourlos",
      "photoUrl": "https://lh3.googleusercontent.com/a-/AOh14GjcgTSHpoVAOYoex4FY1mNtu0JRvup398eYayQgBw=s64",
      "userId": "05975458465273227746"
     },
     "user_tz": -120
    },
    "id": "yezpmjjE-qUc",
    "outputId": "8529d29f-8c44-40d2-f4d8-f0f0ac617c6e"
   },
   "outputs": [
    {
     "data": {
      "text/plain": [
       "(4051, 13, 13, 30, 1)"
      ]
     },
     "execution_count": 34,
     "metadata": {
      "tags": []
     },
     "output_type": "execute_result"
    }
   ],
   "source": [
    "Xtest.shape"
   ]
  },
  {
   "cell_type": "code",
   "execution_count": 35,
   "metadata": {
    "colab": {
     "base_uri": "https://localhost:8080/"
    },
    "executionInfo": {
     "elapsed": 7786,
     "status": "ok",
     "timestamp": 1604398423420,
     "user": {
      "displayName": "Nikos Sourlos",
      "photoUrl": "https://lh3.googleusercontent.com/a-/AOh14GjcgTSHpoVAOYoex4FY1mNtu0JRvup398eYayQgBw=s64",
      "userId": "05975458465273227746"
     },
     "user_tz": -120
    },
    "id": "Lfp4JGeZ-qUf",
    "outputId": "2124af74-7533-4aa2-9ac7-36be0e3ff368"
   },
   "outputs": [
    {
     "data": {
      "text/plain": [
       "(4051, 14)"
      ]
     },
     "execution_count": 35,
     "metadata": {
      "tags": []
     },
     "output_type": "execute_result"
    }
   ],
   "source": [
    "ytest.shape"
   ]
  },
  {
   "cell_type": "code",
   "execution_count": 36,
   "metadata": {
    "colab": {
     "base_uri": "https://localhost:8080/"
    },
    "executionInfo": {
     "elapsed": 7324,
     "status": "ok",
     "timestamp": 1604398423421,
     "user": {
      "displayName": "Nikos Sourlos",
      "photoUrl": "https://lh3.googleusercontent.com/a-/AOh14GjcgTSHpoVAOYoex4FY1mNtu0JRvup398eYayQgBw=s64",
      "userId": "05975458465273227746"
     },
     "user_tz": -120
    },
    "id": "hVNOOUeT-qUi",
    "outputId": "5db256e7-d4fd-48e0-e84e-ced783fdadc5"
   },
   "outputs": [
    {
     "data": {
      "text/plain": [
       "array([[0., 0., 0., 0., 0., 0., 0., 0., 0., 0., 0., 0., 0., 1.],\n",
       "       [0., 0., 0., 0., 0., 0., 0., 0., 0., 0., 0., 0., 1., 0.],\n",
       "       [0., 0., 0., 0., 0., 0., 0., 0., 0., 0., 0., 1., 0., 0.],\n",
       "       [0., 0., 0., 0., 0., 0., 0., 0., 0., 0., 1., 0., 0., 0.],\n",
       "       [0., 0., 0., 0., 0., 0., 0., 0., 0., 1., 0., 0., 0., 0.],\n",
       "       [0., 0., 0., 0., 0., 0., 0., 0., 1., 0., 0., 0., 0., 0.],\n",
       "       [0., 0., 0., 0., 0., 0., 0., 1., 0., 0., 0., 0., 0., 0.],\n",
       "       [0., 0., 0., 0., 0., 0., 1., 0., 0., 0., 0., 0., 0., 0.],\n",
       "       [0., 0., 0., 0., 0., 1., 0., 0., 0., 0., 0., 0., 0., 0.],\n",
       "       [0., 0., 0., 0., 1., 0., 0., 0., 0., 0., 0., 0., 0., 0.],\n",
       "       [0., 0., 0., 1., 0., 0., 0., 0., 0., 0., 0., 0., 0., 0.],\n",
       "       [0., 0., 1., 0., 0., 0., 0., 0., 0., 0., 0., 0., 0., 0.],\n",
       "       [0., 1., 0., 0., 0., 0., 0., 0., 0., 0., 0., 0., 0., 0.],\n",
       "       [1., 0., 0., 0., 0., 0., 0., 0., 0., 0., 0., 0., 0., 0.]],\n",
       "      dtype=float32)"
      ]
     },
     "execution_count": 36,
     "metadata": {
      "tags": []
     },
     "output_type": "execute_result"
    }
   ],
   "source": [
    "un=np.unique(ytest,axis=0)\n",
    "un"
   ]
  },
  {
   "cell_type": "code",
   "execution_count": 36,
   "metadata": {
    "executionInfo": {
     "elapsed": 844,
     "status": "ok",
     "timestamp": 1604410934575,
     "user": {
      "displayName": "Nikos Sourlos",
      "photoUrl": "https://lh3.googleusercontent.com/a-/AOh14GjcgTSHpoVAOYoex4FY1mNtu0JRvup398eYayQgBw=s64",
      "userId": "05975458465273227746"
     },
     "user_tz": -120
    },
    "id": "Jxx6_nXW-qUk"
   },
   "outputs": [],
   "source": [
    "def reports (X_test,y_test):#to get the report along with confusion matrix\n",
    "    Y_pred = model.predict(X_test)\n",
    "    y_pred = np.argmax(Y_pred, axis=1)\n",
    "    #Activate the last label only if we have black pixels\n",
    "    target_names = ['Dense Urban Fabric', 'Mineral Extraction Sites', 'Non Irrigated Arable Land', 'Fruit Trees',\n",
    "                    'Olive Groves', \n",
    "                    'Broad-leaved Forest', \n",
    "                    'Coniferous Forest', \n",
    "                    'Mixed Forest', \n",
    "                    'Dense Sclerophylious Vegetation', 'Sparse Schlerophyllous Vegetation',\n",
    "                    'Sparcely Vegetated Areas', 'Rocks and Sand', 'Water', 'Coastal Water']#, 'Black']\n",
    "    \n",
    "    classification = classification_report(np.argmax(y_test, axis=1), y_pred, target_names=target_names)\n",
    "    oa = accuracy_score(np.argmax(y_test, axis=1), y_pred)\n",
    "    confusion = confusion_matrix(np.argmax(y_test, axis=1), y_pred)\n",
    "    each_acc, aa = AA_andEachClassAccuracy(confusion)\n",
    "    kappa = cohen_kappa_score(np.argmax(y_test, axis=1), y_pred)\n",
    "    score = model.evaluate(X_test, y_test, batch_size=32)\n",
    "    Test_Loss =  score[0]*100\n",
    "    Test_accuracy = score[1]*100\n",
    "    \n",
    "    return classification, confusion, Test_Loss, Test_accuracy, oa*100, each_acc*100, aa*100, kappa*100"
   ]
  },
  {
   "cell_type": "code",
   "execution_count": 39,
   "metadata": {
    "colab": {
     "base_uri": "https://localhost:8080/"
    },
    "executionInfo": {
     "elapsed": 31826,
     "status": "ok",
     "timestamp": 1604410681874,
     "user": {
      "displayName": "Nikos Sourlos",
      "photoUrl": "https://lh3.googleusercontent.com/a-/AOh14GjcgTSHpoVAOYoex4FY1mNtu0JRvup398eYayQgBw=s64",
      "userId": "05975458465273227746"
     },
     "user_tz": -120
    },
    "id": "a4kbyzrv-qUm",
    "outputId": "b9f72702-ca6c-43b6-fe7d-46dd81351424"
   },
   "outputs": [
    {
     "name": "stdout",
     "output_type": "stream",
     "text": [
      "(4051, 14)\n",
      "(4051,)\n",
      "(4051,)\n",
      "127/127 [==============================] - 16s 122ms/step - loss: 0.0955 - accuracy: 0.9810\n"
     ]
    }
   ],
   "source": [
    "#Save the report to a file\n",
    "classification, confusion, Test_loss, Test_accuracy, oa, each_acc, aa, kappa = reports(Xtest,ytest)\n",
    "classification = str(classification)\n",
    "confusion = str(confusion)\n",
    "file_name = \"classification_report.txt\"\n",
    "\n",
    "with open(file_name, 'w') as x_file:\n",
    "    x_file.write('{} Test loss (%)'.format(Test_loss))\n",
    "    x_file.write('\\n')\n",
    "    x_file.write('{} Test accuracy (%)'.format(Test_accuracy))\n",
    "    x_file.write('\\n')\n",
    "    x_file.write('\\n')\n",
    "    x_file.write('{} Kappa accuracy (%)'.format(kappa))\n",
    "    x_file.write('\\n')\n",
    "    x_file.write('{} Overall accuracy (%)'.format(oa))\n",
    "    x_file.write('\\n')\n",
    "    x_file.write('{} Average accuracy (%)'.format(aa))\n",
    "    x_file.write('\\n')\n",
    "    x_file.write('\\n')\n",
    "    x_file.write('{}'.format(classification))\n",
    "    x_file.write('\\n')\n",
    "    x_file.write('{}'.format(confusion))"
   ]
  },
  {
   "cell_type": "code",
   "execution_count": 26,
   "metadata": {
    "executionInfo": {
     "elapsed": 611,
     "status": "ok",
     "timestamp": 1604443645651,
     "user": {
      "displayName": "Nikos Sourlos",
      "photoUrl": "https://lh3.googleusercontent.com/a-/AOh14GjcgTSHpoVAOYoex4FY1mNtu0JRvup398eYayQgBw=s64",
      "userId": "05975458465273227746"
     },
     "user_tz": -120
    },
    "id": "CaSFX_0m-qUp"
   },
   "outputs": [],
   "source": [
    "def Patch(data,height_index,width_index): #to be used below for showing images\n",
    "    height_slice = slice(height_index, height_index+PATCH_SIZE)\n",
    "    width_slice = slice(width_index, width_index+PATCH_SIZE)\n",
    "    patch = data[height_slice, width_slice, :]\n",
    "    \n",
    "    return patch"
   ]
  },
  {
   "cell_type": "code",
   "execution_count": 38,
   "metadata": {
    "colab": {
     "base_uri": "https://localhost:8080/"
    },
    "executionInfo": {
     "elapsed": 688,
     "status": "ok",
     "timestamp": 1604410941861,
     "user": {
      "displayName": "Nikos Sourlos",
      "photoUrl": "https://lh3.googleusercontent.com/a-/AOh14GjcgTSHpoVAOYoex4FY1mNtu0JRvup398eYayQgBw=s64",
      "userId": "05975458465273227746"
     },
     "user_tz": -120
    },
    "id": "WNtwu-xU-qUz",
    "outputId": "e3fbdbc3-20c2-4df8-e086-ddd50b04f95b"
   },
   "outputs": [
    {
     "name": "stdout",
     "output_type": "stream",
     "text": [
      "(249, 945, 176)\n",
      "(249, 945)\n"
     ]
    }
   ],
   "source": [
    "#Load data\n",
    "X=Loukia\n",
    "y=LoukiaGT\n",
    "print(X.shape)\n",
    "print(y.shape)"
   ]
  },
  {
   "cell_type": "code",
   "execution_count": 39,
   "metadata": {
    "executionInfo": {
     "elapsed": 458,
     "status": "ok",
     "timestamp": 1604410942710,
     "user": {
      "displayName": "Nikos Sourlos",
      "photoUrl": "https://lh3.googleusercontent.com/a-/AOh14GjcgTSHpoVAOYoex4FY1mNtu0JRvup398eYayQgBw=s64",
      "userId": "05975458465273227746"
     },
     "user_tz": -120
    },
    "id": "Bc7yz1T_-qU4"
   },
   "outputs": [],
   "source": [
    "#Define parameters to be used below\n",
    "height = y.shape[0]\n",
    "width = y.shape[1]\n",
    "PATCH_SIZE = windowSize\n",
    "numComponents = 30"
   ]
  },
  {
   "cell_type": "code",
   "execution_count": 40,
   "metadata": {
    "colab": {
     "base_uri": "https://localhost:8080/"
    },
    "executionInfo": {
     "elapsed": 6345,
     "status": "ok",
     "timestamp": 1604410949509,
     "user": {
      "displayName": "Nikos Sourlos",
      "photoUrl": "https://lh3.googleusercontent.com/a-/AOh14GjcgTSHpoVAOYoex4FY1mNtu0JRvup398eYayQgBw=s64",
      "userId": "05975458465273227746"
     },
     "user_tz": -120
    },
    "id": "WkaF1yOB-qU7",
    "outputId": "af007887-a99c-4c83-beff-194c61bfa6bb"
   },
   "outputs": [
    {
     "data": {
      "text/plain": [
       "(249, 945, 30)"
      ]
     },
     "execution_count": 40,
     "metadata": {
      "tags": []
     },
     "output_type": "execute_result"
    }
   ],
   "source": [
    "X,pca = applyPCA(X, numComponents=numComponents) #Apply PCA\n",
    "X.shape"
   ]
  },
  {
   "cell_type": "code",
   "execution_count": 41,
   "metadata": {
    "executionInfo": {
     "elapsed": 938,
     "status": "ok",
     "timestamp": 1604410950467,
     "user": {
      "displayName": "Nikos Sourlos",
      "photoUrl": "https://lh3.googleusercontent.com/a-/AOh14GjcgTSHpoVAOYoex4FY1mNtu0JRvup398eYayQgBw=s64",
      "userId": "05975458465273227746"
     },
     "user_tz": -120
    },
    "id": "ul5wXWFO-qVA"
   },
   "outputs": [],
   "source": [
    "X = padWithZeros(X, PATCH_SIZE//2) #Pad image"
   ]
  },
  {
   "cell_type": "code",
   "execution_count": 43,
   "metadata": {
    "colab": {
     "base_uri": "https://localhost:8080/"
    },
    "executionInfo": {
     "elapsed": 21559,
     "status": "ok",
     "timestamp": 1604410328661,
     "user": {
      "displayName": "Nikos Sourlos",
      "photoUrl": "https://lh3.googleusercontent.com/a-/AOh14GjcgTSHpoVAOYoex4FY1mNtu0JRvup398eYayQgBw=s64",
      "userId": "05975458465273227746"
     },
     "user_tz": -120
    },
    "id": "96akrfOb-qVD",
    "outputId": "1f4260b2-a4f7-4e0d-c0c6-a9a412a227bb"
   },
   "outputs": [
    {
     "data": {
      "text/plain": [
       "array([ 0,  1,  2,  3,  4,  5,  6,  7,  8,  9, 10, 11, 12, 13, 14],\n",
       "      dtype=int8)"
      ]
     },
     "execution_count": 43,
     "metadata": {
      "tags": []
     },
     "output_type": "execute_result"
    }
   ],
   "source": [
    "np.unique(y) #Show labels"
   ]
  },
  {
   "cell_type": "code",
   "execution_count": 46,
   "metadata": {
    "colab": {
     "base_uri": "https://localhost:8080/"
    },
    "executionInfo": {
     "elapsed": 9514240,
     "status": "ok",
     "timestamp": 1604407953418,
     "user": {
      "displayName": "Nikos Sourlos",
      "photoUrl": "https://lh3.googleusercontent.com/a-/AOh14GjcgTSHpoVAOYoex4FY1mNtu0JRvup398eYayQgBw=s64",
      "userId": "05975458465273227746"
     },
     "user_tz": -120
    },
    "id": "yi1-MEs8-qVF",
    "outputId": "e02c585e-2e49-4eff-829b-96f0ae2d4089"
   },
   "outputs": [
    {
     "name": "stdout",
     "output_type": "stream",
     "text": [
      "Total time in secs\n",
      "9484.587587594986\n"
     ]
    }
   ],
   "source": [
    "# calculate the predicted image for all pixels\n",
    "# import time\n",
    "start=time.time()\n",
    "outputs = np.zeros((height,width))\n",
    "for i in range(height):\n",
    "    for j in range(width):\n",
    "## The following should only activated if we want to exclude predictions for pixels that we are not interested in\n",
    "#         target = int(y[i,j])\n",
    "#         if target == 0 :\n",
    "#             continue\n",
    "#         else :\n",
    "            image_patch=Patch(X,i,j)\n",
    "            X_test_image = image_patch.reshape(1,image_patch.shape[0],image_patch.shape[1], image_patch.shape[2], 1).astype('float32')                                   \n",
    "            prediction = (model.predict(X_test_image))\n",
    "            prediction = np.argmax(prediction, axis=1)\n",
    "            outputs[i][j] = prediction+1\n",
    "end=time.time()\n",
    "print(\"Total time in secs\")\n",
    "print(end-start)"
   ]
  },
  {
   "cell_type": "code",
   "execution_count": 47,
   "metadata": {
    "executionInfo": {
     "elapsed": 9511428,
     "status": "ok",
     "timestamp": 1604407953444,
     "user": {
      "displayName": "Nikos Sourlos",
      "photoUrl": "https://lh3.googleusercontent.com/a-/AOh14GjcgTSHpoVAOYoex4FY1mNtu0JRvup398eYayQgBw=s64",
      "userId": "05975458465273227746"
     },
     "user_tz": -120
    },
    "id": "jP7LY-7yrR1d"
   },
   "outputs": [],
   "source": [
    "np.save('outputs',outputs) #Save the result"
   ]
  },
  {
   "cell_type": "code",
   "execution_count": 42,
   "metadata": {
    "executionInfo": {
     "elapsed": 917,
     "status": "ok",
     "timestamp": 1604410950468,
     "user": {
      "displayName": "Nikos Sourlos",
      "photoUrl": "https://lh3.googleusercontent.com/a-/AOh14GjcgTSHpoVAOYoex4FY1mNtu0JRvup398eYayQgBw=s64",
      "userId": "05975458465273227746"
     },
     "user_tz": -120
    },
    "id": "snPYhnyxTpIR"
   },
   "outputs": [],
   "source": [
    "outputs=np.load('outputs.npy') #Load these outputs"
   ]
  },
  {
   "cell_type": "code",
   "execution_count": 47,
   "metadata": {
    "colab": {
     "base_uri": "https://localhost:8080/"
    },
    "executionInfo": {
     "elapsed": 1071,
     "status": "ok",
     "timestamp": 1604410721421,
     "user": {
      "displayName": "Nikos Sourlos",
      "photoUrl": "https://lh3.googleusercontent.com/a-/AOh14GjcgTSHpoVAOYoex4FY1mNtu0JRvup398eYayQgBw=s64",
      "userId": "05975458465273227746"
     },
     "user_tz": -120
    },
    "id": "YcEfkCtv-qVI",
    "outputId": "aef0e5e3-1627-4462-c37c-09cd948a5c8c"
   },
   "outputs": [
    {
     "data": {
      "text/plain": [
       "array([ 1.,  2.,  3.,  4.,  5.,  6.,  7.,  8.,  9., 10., 11., 12., 13.,\n",
       "       14.])"
      ]
     },
     "execution_count": 47,
     "metadata": {
      "tags": []
     },
     "output_type": "execute_result"
    }
   ],
   "source": [
    "np.unique(outputs) #Show values of predicted labels"
   ]
  },
  {
   "cell_type": "code",
   "execution_count": 48,
   "metadata": {
    "colab": {
     "base_uri": "https://localhost:8080/"
    },
    "executionInfo": {
     "elapsed": 643,
     "status": "ok",
     "timestamp": 1604410723983,
     "user": {
      "displayName": "Nikos Sourlos",
      "photoUrl": "https://lh3.googleusercontent.com/a-/AOh14GjcgTSHpoVAOYoex4FY1mNtu0JRvup398eYayQgBw=s64",
      "userId": "05975458465273227746"
     },
     "user_tz": -120
    },
    "id": "FGSDg6Az-qVK",
    "outputId": "6cef7b97-4f9b-4bf6-b1a0-d5f934c65e85"
   },
   "outputs": [
    {
     "data": {
      "text/plain": [
       "array([ 0,  1,  2,  3,  4,  5,  6,  7,  8,  9, 10, 11, 12, 13, 14],\n",
       "      dtype=int8)"
      ]
     },
     "execution_count": 48,
     "metadata": {
      "tags": []
     },
     "output_type": "execute_result"
    }
   ],
   "source": [
    "np.unique(y) #Show values of true labels"
   ]
  },
  {
   "cell_type": "code",
   "execution_count": 50,
   "metadata": {
    "executionInfo": {
     "elapsed": 5020,
     "status": "ok",
     "timestamp": 1604408008894,
     "user": {
      "displayName": "Nikos Sourlos",
      "photoUrl": "https://lh3.googleusercontent.com/a-/AOh14GjcgTSHpoVAOYoex4FY1mNtu0JRvup398eYayQgBw=s64",
      "userId": "05975458465273227746"
     },
     "user_tz": -120
    },
    "id": "Xz6pvZiQ-qVP"
   },
   "outputs": [],
   "source": [
    "#These are needed only if we inserted an extra black class\n",
    "outputs2=np.zeros((outputs.shape[0],outputs.shape[1]))\n",
    "for i in range(outputs.shape[0]):\n",
    "    for j in range(outputs.shape[1]):\n",
    "        if outputs[i][j]==15:\n",
    "            outputs2[i][j]=0\n",
    "        else:\n",
    "            outputs2[i][j]=outputs[i][j]"
   ]
  },
  {
   "cell_type": "code",
   "execution_count": 51,
   "metadata": {
    "colab": {
     "base_uri": "https://localhost:8080/"
    },
    "executionInfo": {
     "elapsed": 5878,
     "status": "ok",
     "timestamp": 1604408010835,
     "user": {
      "displayName": "Nikos Sourlos",
      "photoUrl": "https://lh3.googleusercontent.com/a-/AOh14GjcgTSHpoVAOYoex4FY1mNtu0JRvup398eYayQgBw=s64",
      "userId": "05975458465273227746"
     },
     "user_tz": -120
    },
    "id": "dVDyp0UF-qVR",
    "outputId": "a510fa76-9abd-4d7f-d305-82cb4a618d03"
   },
   "outputs": [
    {
     "data": {
      "text/plain": [
       "array([ 1.,  2.,  3.,  4.,  5.,  6.,  7.,  8.,  9., 10., 11., 12., 13.,\n",
       "       14.])"
      ]
     },
     "execution_count": 51,
     "metadata": {
      "tags": []
     },
     "output_type": "execute_result"
    }
   ],
   "source": [
    "np.unique(outputs2)"
   ]
  },
  {
   "cell_type": "code",
   "execution_count": 52,
   "metadata": {
    "executionInfo": {
     "elapsed": 4975,
     "status": "ok",
     "timestamp": 1604408010841,
     "user": {
      "displayName": "Nikos Sourlos",
      "photoUrl": "https://lh3.googleusercontent.com/a-/AOh14GjcgTSHpoVAOYoex4FY1mNtu0JRvup398eYayQgBw=s64",
      "userId": "05975458465273227746"
     },
     "user_tz": -120
    },
    "id": "3E4B2HInrcSy"
   },
   "outputs": [],
   "source": [
    "np.save('outputs2',outputs2) #Save new outputs"
   ]
  },
  {
   "cell_type": "code",
   "execution_count": 43,
   "metadata": {
    "executionInfo": {
     "elapsed": 1715,
     "status": "ok",
     "timestamp": 1604410952605,
     "user": {
      "displayName": "Nikos Sourlos",
      "photoUrl": "https://lh3.googleusercontent.com/a-/AOh14GjcgTSHpoVAOYoex4FY1mNtu0JRvup398eYayQgBw=s64",
      "userId": "05975458465273227746"
     },
     "user_tz": -120
    },
    "id": "pWJ2TzWKT5t-"
   },
   "outputs": [],
   "source": [
    "outputs2=np.load('outputs2.npy') #Load new outputs"
   ]
  },
  {
   "cell_type": "code",
   "execution_count": null,
   "metadata": {
    "colab": {
     "base_uri": "https://localhost:8080/"
    },
    "executionInfo": {
     "elapsed": 3958,
     "status": "ok",
     "timestamp": 1604408010848,
     "user": {
      "displayName": "Nikos Sourlos",
      "photoUrl": "https://lh3.googleusercontent.com/a-/AOh14GjcgTSHpoVAOYoex4FY1mNtu0JRvup398eYayQgBw=s64",
      "userId": "05975458465273227746"
     },
     "user_tz": -120
    },
    "id": "l1SoAC0V-qVT",
    "outputId": "bd318a77-fbf3-46c3-ce35-29e81f4c29d0"
   },
   "outputs": [
    {
     "data": {
      "text/plain": [
       "array([ 0,  1,  2,  3,  4,  5,  6,  7,  8,  9, 10, 11, 12, 13, 14],\n",
       "      dtype=int8)"
      ]
     },
     "execution_count": 53,
     "metadata": {
      "tags": []
     },
     "output_type": "execute_result"
    }
   ],
   "source": [
    "np.unique(y)"
   ]
  },
  {
   "cell_type": "code",
   "execution_count": 54,
   "metadata": {
    "colab": {
     "base_uri": "https://localhost:8080/",
     "height": 287
    },
    "executionInfo": {
     "elapsed": 2369,
     "status": "ok",
     "timestamp": 1604408017763,
     "user": {
      "displayName": "Nikos Sourlos",
      "photoUrl": "https://lh3.googleusercontent.com/a-/AOh14GjcgTSHpoVAOYoex4FY1mNtu0JRvup398eYayQgBw=s64",
      "userId": "05975458465273227746"
     },
     "user_tz": -120
    },
    "id": "AZLCwCDE-qVV",
    "outputId": "5c1d97b2-049c-464d-f8b7-117037727cec"
   },
   "outputs": [
    {
     "data": {
      "text/plain": [
       "<matplotlib.legend.Legend at 0x7f5ed55ccf98>"
      ]
     },
     "execution_count": 54,
     "metadata": {
      "tags": []
     },
     "output_type": "execute_result"
    },
    {
     "data": {
      "image/png": "[encoded data removed]",
      "text/plain": [
       "<Figure size 504x504 with 1 Axes>"
      ]
     },
     "metadata": {
      "needs_background": "light",
      "tags": []
     },
     "output_type": "display_data"
    }
   ],
   "source": [
    "# Show ground-truth image\n",
    "ground_truth = spectral.imshow(classes = y,figsize =(7,7))\n",
    "\n",
    "labelDictionary={1:'Dense Urban Fabric', 2:'Mineral Extraction Sites', 3:'Non Irrigated Arable Land', \n",
    "                 4:'Fruit Trees', 5:'Olive Groves', 6:'Broad-leaved Forest',7:'Coniferous Forest',\n",
    "                 8:'Mixed Forest',9:'Dense Sclerophylious Vegetation',10:'Sparse Schlerophyllous Vegetation',\n",
    "                 11:'Sparcely Vegetated Areas',12:'Rocks and Sand',13:'Water',14:'Coastal Water',0:'Black'}\n",
    "\n",
    "labelPatches = [ patches.Patch(color=spy_colors[x]/255.,\n",
    "                 label=labelDictionary[x]) for x in np.unique(y) ]\n",
    "\n",
    "plt.legend(handles=labelPatches,ncol=2, fontsize='medium', \n",
    "           loc='upper center', bbox_to_anchor=(0.5, -0.05))"
   ]
  },
  {
   "cell_type": "code",
   "execution_count": 55,
   "metadata": {
    "colab": {
     "base_uri": "https://localhost:8080/",
     "height": 287
    },
    "executionInfo": {
     "elapsed": 2400,
     "status": "ok",
     "timestamp": 1604408028526,
     "user": {
      "displayName": "Nikos Sourlos",
      "photoUrl": "https://lh3.googleusercontent.com/a-/AOh14GjcgTSHpoVAOYoex4FY1mNtu0JRvup398eYayQgBw=s64",
      "userId": "05975458465273227746"
     },
     "user_tz": -120
    },
    "id": "sPEDTaga-qVX",
    "outputId": "9cb3ebff-7f41-43a1-f2a8-46364c0793e3"
   },
   "outputs": [
    {
     "data": {
      "text/plain": [
       "<matplotlib.legend.Legend at 0x7f5ed5877eb8>"
      ]
     },
     "execution_count": 55,
     "metadata": {
      "tags": []
     },
     "output_type": "execute_result"
    },
    {
     "data": {
      "image/png": "[encoded data removed]",
      "text/plain": [
       "<Figure size 504x504 with 1 Axes>"
      ]
     },
     "metadata": {
      "needs_background": "light",
      "tags": []
     },
     "output_type": "display_data"
    }
   ],
   "source": [
    "#Show predicted image with no black pixels\n",
    "predict_image = spectral.imshow(classes = outputs2.astype(int),figsize =(7,7))\n",
    "\n",
    "plt.legend(handles=labelPatches,ncol=2, fontsize='medium', \n",
    "           loc='upper center', bbox_to_anchor=(0.5, -0.05))"
   ]
  },
  {
   "cell_type": "code",
   "execution_count": 56,
   "metadata": {
    "colab": {
     "base_uri": "https://localhost:8080/"
    },
    "executionInfo": {
     "elapsed": 573712,
     "status": "ok",
     "timestamp": 1604408614730,
     "user": {
      "displayName": "Nikos Sourlos",
      "photoUrl": "https://lh3.googleusercontent.com/a-/AOh14GjcgTSHpoVAOYoex4FY1mNtu0JRvup398eYayQgBw=s64",
      "userId": "05975458465273227746"
     },
     "user_tz": -120
    },
    "id": "KS2XJ4bH-qVZ",
    "outputId": "3fb934de-ce1c-4b1f-9cea-221fb655df0c"
   },
   "outputs": [
    {
     "name": "stdout",
     "output_type": "stream",
     "text": [
      "Total time in secs\n",
      "572.0938763618469\n"
     ]
    }
   ],
   "source": [
    "#Calculated predicted image without taking into account pixels that we are not interested in - Applying a mask\n",
    "start=time.time()\n",
    "outputs3 = np.zeros((height,width))\n",
    "for i in range(height):\n",
    "    for j in range(width):\n",
    "        target = int(y[i,j])\n",
    "        if target == 0 :\n",
    "            continue\n",
    "        else :\n",
    "            image_patch=Patch(X,i,j)\n",
    "            X_test_image = image_patch.reshape(1,image_patch.shape[0],image_patch.shape[1], image_patch.shape[2], 1).astype('float32')                                   \n",
    "            prediction = (model.predict(X_test_image))\n",
    "            prediction = np.argmax(prediction, axis=1)\n",
    "            outputs3[i][j] = prediction+1\n",
    "end=time.time()\n",
    "print(\"Total time in secs\")\n",
    "print(end-start)"
   ]
  },
  {
   "cell_type": "code",
   "execution_count": 57,
   "metadata": {
    "executionInfo": {
     "elapsed": 2683,
     "status": "ok",
     "timestamp": 1604408617559,
     "user": {
      "displayName": "Nikos Sourlos",
      "photoUrl": "https://lh3.googleusercontent.com/a-/AOh14GjcgTSHpoVAOYoex4FY1mNtu0JRvup398eYayQgBw=s64",
      "userId": "05975458465273227746"
     },
     "user_tz": -120
    },
    "id": "qDdxczPmrg77"
   },
   "outputs": [],
   "source": [
    "np.save('outputs3',outputs3) #Save these"
   ]
  },
  {
   "cell_type": "code",
   "execution_count": 44,
   "metadata": {
    "executionInfo": {
     "elapsed": 884,
     "status": "ok",
     "timestamp": 1604410958163,
     "user": {
      "displayName": "Nikos Sourlos",
      "photoUrl": "https://lh3.googleusercontent.com/a-/AOh14GjcgTSHpoVAOYoex4FY1mNtu0JRvup398eYayQgBw=s64",
      "userId": "05975458465273227746"
     },
     "user_tz": -120
    },
    "id": "isLxz3yHUG08"
   },
   "outputs": [],
   "source": [
    "outputs3=np.load('outputs3.npy') #Load that new output"
   ]
  },
  {
   "cell_type": "code",
   "execution_count": 58,
   "metadata": {
    "colab": {
     "base_uri": "https://localhost:8080/",
     "height": 155
    },
    "executionInfo": {
     "elapsed": 1391,
     "status": "ok",
     "timestamp": 1604408654474,
     "user": {
      "displayName": "Nikos Sourlos",
      "photoUrl": "https://lh3.googleusercontent.com/a-/AOh14GjcgTSHpoVAOYoex4FY1mNtu0JRvup398eYayQgBw=s64",
      "userId": "05975458465273227746"
     },
     "user_tz": -120
    },
    "id": "SiOimQWp-qVc",
    "outputId": "07090657-01cb-43ee-e6dc-c648f9c5f7b5"
   },
   "outputs": [
    {
     "data": {
      "image/png": "[encoded data removed]",
      "text/plain": [
       "<Figure size 504x504 with 1 Axes>"
      ]
     },
     "metadata": {
      "needs_background": "light",
      "tags": []
     },
     "output_type": "display_data"
    }
   ],
   "source": [
    "predict_image = spectral.imshow(classes = outputs3.astype(int),figsize =(7,7)) #Show that image"
   ]
  },
  {
   "cell_type": "code",
   "execution_count": 59,
   "metadata": {
    "executionInfo": {
     "elapsed": 1291,
     "status": "ok",
     "timestamp": 1604408662378,
     "user": {
      "displayName": "Nikos Sourlos",
      "photoUrl": "https://lh3.googleusercontent.com/a-/AOh14GjcgTSHpoVAOYoex4FY1mNtu0JRvup398eYayQgBw=s64",
      "userId": "05975458465273227746"
     },
     "user_tz": -120
    },
    "id": "Fkd-wIS9-qVd"
   },
   "outputs": [],
   "source": [
    "#Save these three images\n",
    "spectral.save_rgb(\"predictionsLoukia.jpg\", outputs2.astype(int), colors=spectral.spy_colors)\n",
    "spectral.save_rgb(\"predictionsLoukiatarget.jpg\",y.astype(int), colors=spectral.spy_colors)\n",
    "spectral.save_rgb(\"predictionsLoukiawithoutzeros.jpg\", outputs3.astype(int), colors=spectral.spy_colors)"
   ]
  },
  {
   "cell_type": "markdown",
   "metadata": {
    "id": "ceXacqy_-qVf"
   },
   "source": [
    "Second training image does not work! Next section can be ommited"
   ]
  },
  {
   "cell_type": "code",
   "execution_count": 51,
   "metadata": {
    "executionInfo": {
     "elapsed": 7837,
     "status": "ok",
     "timestamp": 1604410744833,
     "user": {
      "displayName": "Nikos Sourlos",
      "photoUrl": "https://lh3.googleusercontent.com/a-/AOh14GjcgTSHpoVAOYoex4FY1mNtu0JRvup398eYayQgBw=s64",
      "userId": "05975458465273227746"
     },
     "user_tz": -120
    },
    "id": "JueC5tGh-qVf"
   },
   "outputs": [],
   "source": [
    "X=Dioni\n",
    "y=DioniGT\n",
    "K = 30 #if dataset == 'IP' else 15\n",
    "X,pca = applyPCA(X,numComponents=K)\n",
    "X.shape"
   ]
  },
  {
   "cell_type": "code",
   "execution_count": null,
   "metadata": {
    "id": "x-tUIR1g-qVm"
   },
   "outputs": [],
   "source": [
    "#Run out of memory since bigger spatial dimensions\n",
    "X, y = createImageCubes(X, y, windowSize=windowSize)\n",
    "X.shape, y.shape"
   ]
  },
  {
   "cell_type": "code",
   "execution_count": null,
   "metadata": {
    "id": "x0S-_DS0-qVo"
   },
   "outputs": [],
   "source": [
    "Xtrain, Xtest, ytrain, ytest = splitTrainTestSet(X, y, test_ratio)"
   ]
  },
  {
   "cell_type": "code",
   "execution_count": null,
   "metadata": {
    "id": "WGJB6JA--qVq"
   },
   "outputs": [],
   "source": [
    "Xtest = Xtest.reshape(-1, windowSize, windowSize, K, 1)\n",
    "Xtest.shape\n",
    "ytest = np_utils.to_categorical(ytest)\n",
    "ytest.shape"
   ]
  },
  {
   "cell_type": "code",
   "execution_count": null,
   "metadata": {
    "id": "MFU1vsJ5-qVs"
   },
   "outputs": [],
   "source": [
    "Y_pred_test = model.predict(Xtest)\n",
    "y_pred_test = np.argmax(Y_pred_test, axis=1)\n",
    "\n",
    "classification = classification_report(np.argmax(ytest, axis=1), y_pred_test)\n",
    "print(classification)"
   ]
  },
  {
   "cell_type": "code",
   "execution_count": null,
   "metadata": {
    "id": "exjw88ug-qVv"
   },
   "outputs": [],
   "source": [
    "X=Dioni\n",
    "y=DioniGT\n",
    "height2 = y.shape[0]\n",
    "width2 = y.shape[1]\n",
    "X,pca = applyPCA(X, numComponents=numComponents)\n",
    "X = padWithZeros(X, PATCH_SIZE//2)"
   ]
  },
  {
   "cell_type": "code",
   "execution_count": null,
   "metadata": {
    "id": "9gLZ75ku-qVx"
   },
   "outputs": [],
   "source": [
    "# calculate the predicted image\n",
    "import time\n",
    "start=time.time()\n",
    "outputstr = np.zeros((height2,width2))\n",
    "for i in range(height2):\n",
    "    for j in range(width2):\n",
    "        target = int(y[i,j])\n",
    "        if target == 0 :\n",
    "            continue\n",
    "        else :\n",
    "            image_patch=Patch(X,i,j)\n",
    "            X_test_image = image_patch.reshape(1,image_patch.shape[0],image_patch.shape[1], image_patch.shape[2], 1).astype('float32')                                   \n",
    "            prediction = (model.predict(X_test_image))\n",
    "            prediction = np.argmax(prediction, axis=1)\n",
    "            outputstr[i][j] = prediction+1\n",
    "end=time.time()\n",
    "print(\"Total time in secs\")\n",
    "print(end-start)"
   ]
  },
  {
   "cell_type": "code",
   "execution_count": null,
   "metadata": {
    "id": "diS5FFnq-qV1"
   },
   "outputs": [],
   "source": [
    "outputstrnew=np.zeros((outputstr.shape[0],outputstr.shape[1]))\n",
    "for i in range(outputstr.shape[0]):\n",
    "    for j in range(outputstr.shape[1]):\n",
    "        if outputstr[i][j]==15:\n",
    "            outputstrnew[i][j]=0\n",
    "        else:\n",
    "            outputstrnew[i][j]=outputstr[i][j]"
   ]
  },
  {
   "cell_type": "code",
   "execution_count": null,
   "metadata": {
    "id": "oW2Omyk8-qV5"
   },
   "outputs": [],
   "source": [
    "ground_truth = spectral.imshow(classes = y,figsize =(7,7))\n"
   ]
  },
  {
   "cell_type": "code",
   "execution_count": null,
   "metadata": {
    "id": "Xko1JhYF-qV-"
   },
   "outputs": [],
   "source": [
    "predict_image = spectral.imshow(classes = outputstr.astype(int),figsize =(7,7))"
   ]
  },
  {
   "cell_type": "code",
   "execution_count": null,
   "metadata": {
    "id": "rrbwqW1d-qWB"
   },
   "outputs": [],
   "source": [
    "predict_image = spectral.imshow(classes = outputstrnew.astype(int),figsize =(7,7))"
   ]
  },
  {
   "cell_type": "markdown",
   "metadata": {
    "id": "qziVcBpR-qWC"
   },
   "source": [
    "spectral.save_rgb(str(dataset)+\"_ground_truth.jpg\", y, colors=spectral.spy_colors)"
   ]
  },
  {
   "cell_type": "markdown",
   "metadata": {
    "id": "O05pB6W9-qWC"
   },
   "source": [
    "Validation Images"
   ]
  },
  {
   "cell_type": "code",
   "execution_count": 22,
   "metadata": {
    "executionInfo": {
     "elapsed": 5824,
     "status": "ok",
     "timestamp": 1604443523011,
     "user": {
      "displayName": "Nikos Sourlos",
      "photoUrl": "https://lh3.googleusercontent.com/a-/AOh14GjcgTSHpoVAOYoex4FY1mNtu0JRvup398eYayQgBw=s64",
      "userId": "05975458465273227746"
     },
     "user_tz": -120
    },
    "id": "Y7NxaKgY-qWD"
   },
   "outputs": [],
   "source": [
    "Erato=tifffile.imread('/content/drive/My Drive/col/HyRANK_satellite/HyRANK_satellite/ValidationSet/Erato.tif')\n",
    "Nefeli=tifffile.imread('/content/drive/My Drive/col/HyRANK_satellite/HyRANK_satellite/ValidationSet/Nefeli.tif')\n",
    "Kirki=tifffile.imread('/content/drive/My Drive/col/HyRANK_satellite/HyRANK_satellite/ValidationSet/Kirki.tif')"
   ]
  },
  {
   "cell_type": "markdown",
   "metadata": {
    "id": "CUKLWDTket4M"
   },
   "source": [
    "Predicted Image for **Erato**"
   ]
  },
  {
   "cell_type": "code",
   "execution_count": 47,
   "metadata": {
    "executionInfo": {
     "elapsed": 9110,
     "status": "ok",
     "timestamp": 1604411018712,
     "user": {
      "displayName": "Nikos Sourlos",
      "photoUrl": "https://lh3.googleusercontent.com/a-/AOh14GjcgTSHpoVAOYoex4FY1mNtu0JRvup398eYayQgBw=s64",
      "userId": "05975458465273227746"
     },
     "user_tz": -120
    },
    "id": "gSqQooSm-qWF"
   },
   "outputs": [],
   "source": [
    "X=Erato\n",
    "K = 30 \n",
    "X,pca = applyPCA(X,numComponents=K)"
   ]
  },
  {
   "cell_type": "code",
   "execution_count": 48,
   "metadata": {
    "colab": {
     "base_uri": "https://localhost:8080/"
    },
    "executionInfo": {
     "elapsed": 897,
     "status": "ok",
     "timestamp": 1604411020635,
     "user": {
      "displayName": "Nikos Sourlos",
      "photoUrl": "https://lh3.googleusercontent.com/a-/AOh14GjcgTSHpoVAOYoex4FY1mNtu0JRvup398eYayQgBw=s64",
      "userId": "05975458465273227746"
     },
     "user_tz": -120
    },
    "id": "Ug6uiG2K-qWH",
    "outputId": "90df079e-0bc7-4f25-82f4-a412dc08c875"
   },
   "outputs": [
    {
     "data": {
      "text/plain": [
       "(253, 1644, 30)"
      ]
     },
     "execution_count": 48,
     "metadata": {
      "tags": []
     },
     "output_type": "execute_result"
    }
   ],
   "source": [
    "PATCH_SIZE=windowSize\n",
    "height = X.shape[0]\n",
    "width = X.shape[1]\n",
    "X = padWithZeros(X, PATCH_SIZE//2)\n",
    "X.shape"
   ]
  },
  {
   "cell_type": "code",
   "execution_count": 49,
   "metadata": {
    "colab": {
     "base_uri": "https://localhost:8080/"
    },
    "executionInfo": {
     "elapsed": 1601238,
     "status": "ok",
     "timestamp": 1604428302669,
     "user": {
      "displayName": "Nikos Sourlos",
      "photoUrl": "https://lh3.googleusercontent.com/a-/AOh14GjcgTSHpoVAOYoex4FY1mNtu0JRvup398eYayQgBw=s64",
      "userId": "05975458465273227746"
     },
     "user_tz": -120
    },
    "id": "kpV1eJKo-qWM",
    "outputId": "447ec18d-c76d-4e91-8d93-978fc47374cf"
   },
   "outputs": [
    {
     "name": "stdout",
     "output_type": "stream",
     "text": [
      "Total time in secs\n",
      "17258.55034828186\n"
     ]
    }
   ],
   "source": [
    "# calculate the predicted image\n",
    "start=time.time()\n",
    "outputs4 = np.zeros((height,width))\n",
    "for i in range(height):\n",
    "    for j in range(width):\n",
    "            image_patch=Patch(X,i,j)\n",
    "            X_test_image = image_patch.reshape(1,image_patch.shape[0],image_patch.shape[1], image_patch.shape[2], 1).astype('float32')                                   \n",
    "            prediction = (model.predict(X_test_image))\n",
    "            prediction = np.argmax(prediction, axis=1)\n",
    "            outputs4[i][j] = prediction+1\n",
    "end=time.time()\n",
    "print(\"Total time in secs\")\n",
    "print(end-start)"
   ]
  },
  {
   "cell_type": "code",
   "execution_count": 62,
   "metadata": {
    "colab": {
     "base_uri": "https://localhost:8080/",
     "height": 109
    },
    "executionInfo": {
     "elapsed": 1127,
     "status": "ok",
     "timestamp": 1604429423219,
     "user": {
      "displayName": "Nikos Sourlos",
      "photoUrl": "https://lh3.googleusercontent.com/a-/AOh14GjcgTSHpoVAOYoex4FY1mNtu0JRvup398eYayQgBw=s64",
      "userId": "05975458465273227746"
     },
     "user_tz": -120
    },
    "id": "3bCBQbhg-qWP",
    "outputId": "039b66aa-ea08-4bf1-9c75-c6a0c009db88"
   },
   "outputs": [
    {
     "data": {
      "image/png": "[encoded data removed]",
      "text/plain": [
       "<Figure size 504x504 with 1 Axes>"
      ]
     },
     "metadata": {
      "needs_background": "light",
      "tags": []
     },
     "output_type": "display_data"
    }
   ],
   "source": [
    "#Show predicted image\n",
    "predict_image = spectral.imshow(classes = outputs4.astype(int),figsize =(7,7))"
   ]
  },
  {
   "cell_type": "code",
   "execution_count": 51,
   "metadata": {
    "executionInfo": {
     "elapsed": 3627,
     "status": "ok",
     "timestamp": 1604428336104,
     "user": {
      "displayName": "Nikos Sourlos",
      "photoUrl": "https://lh3.googleusercontent.com/a-/AOh14GjcgTSHpoVAOYoex4FY1mNtu0JRvup398eYayQgBw=s64",
      "userId": "05975458465273227746"
     },
     "user_tz": -120
    },
    "id": "RivurZqQgLkR"
   },
   "outputs": [],
   "source": [
    "np.save('outputs4',outputs4)"
   ]
  },
  {
   "cell_type": "code",
   "execution_count": 61,
   "metadata": {
    "executionInfo": {
     "elapsed": 1206,
     "status": "ok",
     "timestamp": 1604429418232,
     "user": {
      "displayName": "Nikos Sourlos",
      "photoUrl": "https://lh3.googleusercontent.com/a-/AOh14GjcgTSHpoVAOYoex4FY1mNtu0JRvup398eYayQgBw=s64",
      "userId": "05975458465273227746"
     },
     "user_tz": -120
    },
    "id": "tk49QeLBcCuw"
   },
   "outputs": [],
   "source": [
    "outputs4=np.load('outputs4.npy')"
   ]
  },
  {
   "cell_type": "code",
   "execution_count": 63,
   "metadata": {
    "executionInfo": {
     "elapsed": 1560,
     "status": "ok",
     "timestamp": 1604429445091,
     "user": {
      "displayName": "Nikos Sourlos",
      "photoUrl": "https://lh3.googleusercontent.com/a-/AOh14GjcgTSHpoVAOYoex4FY1mNtu0JRvup398eYayQgBw=s64",
      "userId": "05975458465273227746"
     },
     "user_tz": -120
    },
    "id": "_NIYyh9iYvsZ"
   },
   "outputs": [],
   "source": [
    "spectral.save_rgb(\"predictionsErato.jpg\", outputs4.astype(int), colors=spectral.spy_colors)"
   ]
  },
  {
   "cell_type": "code",
   "execution_count": null,
   "metadata": {
    "id": "j6sgTOus-qWS"
   },
   "outputs": [],
   "source": [
    "#Only if we are interested in black pixels\n",
    "outputs5=np.zeros((outputs4.shape[0],outputs4.shape[1]))\n",
    "for i in range(outputs4.shape[0]):\n",
    "    for j in range(outputs4.shape[1]):\n",
    "        if outputs4[i][j]==15:\n",
    "            outputs5[i][j]=0\n",
    "        else:\n",
    "            outputs5[i][j]=outputs4[i][j]"
   ]
  },
  {
   "cell_type": "code",
   "execution_count": null,
   "metadata": {
    "id": "Msw_AcCE-qWU"
   },
   "outputs": [],
   "source": [
    "#Show images with black pixels\n",
    "predict_image = spectral.imshow(classes = outputs5.astype(int),figsize =(7,7))"
   ]
  },
  {
   "cell_type": "markdown",
   "metadata": {
    "id": "HuWzVpzjezML"
   },
   "source": [
    "Predicted Image for **Nefeli** - Same code as before"
   ]
  },
  {
   "cell_type": "code",
   "execution_count": 64,
   "metadata": {
    "executionInfo": {
     "elapsed": 4422,
     "status": "ok",
     "timestamp": 1604429453784,
     "user": {
      "displayName": "Nikos Sourlos",
      "photoUrl": "https://lh3.googleusercontent.com/a-/AOh14GjcgTSHpoVAOYoex4FY1mNtu0JRvup398eYayQgBw=s64",
      "userId": "05975458465273227746"
     },
     "user_tz": -120
    },
    "id": "qDrvr2HBe53T"
   },
   "outputs": [],
   "source": [
    "X=Nefeli\n",
    "K = 30 \n",
    "X,pca = applyPCA(X,numComponents=K)"
   ]
  },
  {
   "cell_type": "code",
   "execution_count": 65,
   "metadata": {
    "colab": {
     "base_uri": "https://localhost:8080/"
    },
    "executionInfo": {
     "elapsed": 3685,
     "status": "ok",
     "timestamp": 1604429453785,
     "user": {
      "displayName": "Nikos Sourlos",
      "photoUrl": "https://lh3.googleusercontent.com/a-/AOh14GjcgTSHpoVAOYoex4FY1mNtu0JRvup398eYayQgBw=s64",
      "userId": "05975458465273227746"
     },
     "user_tz": -120
    },
    "id": "7hkVn9Cve7v8",
    "outputId": "a5934285-dcc2-454a-a68c-32a626223331"
   },
   "outputs": [
    {
     "data": {
      "text/plain": [
       "(261, 784, 30)"
      ]
     },
     "execution_count": 65,
     "metadata": {
      "tags": []
     },
     "output_type": "execute_result"
    }
   ],
   "source": [
    "PATCH_SIZE=windowSize\n",
    "height = X.shape[0]\n",
    "width = X.shape[1]\n",
    "X = padWithZeros(X, PATCH_SIZE//2)\n",
    "X.shape"
   ]
  },
  {
   "cell_type": "code",
   "execution_count": 66,
   "metadata": {
    "colab": {
     "base_uri": "https://localhost:8080/"
    },
    "executionInfo": {
     "elapsed": 4776785,
     "status": "ok",
     "timestamp": 1604438172214,
     "user": {
      "displayName": "Nikos Sourlos",
      "photoUrl": "https://lh3.googleusercontent.com/a-/AOh14GjcgTSHpoVAOYoex4FY1mNtu0JRvup398eYayQgBw=s64",
      "userId": "05975458465273227746"
     },
     "user_tz": -120
    },
    "id": "LuatCMine8B2",
    "outputId": "460d4956-c338-41c0-dae8-7deb706ba528"
   },
   "outputs": [
    {
     "name": "stdout",
     "output_type": "stream",
     "text": [
      "Total time in secs\n",
      "8680.749790906906\n"
     ]
    }
   ],
   "source": [
    "# calculate the predicted image\n",
    "start=time.time()\n",
    "outputs6 = np.zeros((height,width))\n",
    "for i in range(height):\n",
    "    for j in range(width):\n",
    "            image_patch=Patch(X,i,j)\n",
    "            X_test_image = image_patch.reshape(1,image_patch.shape[0],image_patch.shape[1], image_patch.shape[2], 1).astype('float32')                                   \n",
    "            prediction = (model.predict(X_test_image))\n",
    "            prediction = np.argmax(prediction, axis=1)\n",
    "            outputs6[i][j] = prediction+1\n",
    "end=time.time()\n",
    "print(\"Total time in secs\")\n",
    "print(end-start)"
   ]
  },
  {
   "cell_type": "code",
   "execution_count": 67,
   "metadata": {
    "colab": {
     "base_uri": "https://localhost:8080/",
     "height": 178
    },
    "executionInfo": {
     "elapsed": 726,
     "status": "ok",
     "timestamp": 1604438172904,
     "user": {
      "displayName": "Nikos Sourlos",
      "photoUrl": "https://lh3.googleusercontent.com/a-/AOh14GjcgTSHpoVAOYoex4FY1mNtu0JRvup398eYayQgBw=s64",
      "userId": "05975458465273227746"
     },
     "user_tz": -120
    },
    "id": "-0QmTTIqe8dl",
    "outputId": "f9a35203-6340-42dd-c906-be98b245ff66"
   },
   "outputs": [
    {
     "data": {
      "image/png": "[encoded data removed]",
      "text/plain": [
       "<Figure size 504x504 with 1 Axes>"
      ]
     },
     "metadata": {
      "needs_background": "light",
      "tags": []
     },
     "output_type": "display_data"
    }
   ],
   "source": [
    "#Show predicted image\n",
    "predict_image = spectral.imshow(classes = outputs6.astype(int),figsize =(7,7))"
   ]
  },
  {
   "cell_type": "code",
   "execution_count": 68,
   "metadata": {
    "executionInfo": {
     "elapsed": 102,
     "status": "ok",
     "timestamp": 1604438172906,
     "user": {
      "displayName": "Nikos Sourlos",
      "photoUrl": "https://lh3.googleusercontent.com/a-/AOh14GjcgTSHpoVAOYoex4FY1mNtu0JRvup398eYayQgBw=s64",
      "userId": "05975458465273227746"
     },
     "user_tz": -120
    },
    "id": "DdNwRfsWgULM"
   },
   "outputs": [],
   "source": [
    "np.save('outputs6',outputs6)"
   ]
  },
  {
   "cell_type": "code",
   "execution_count": 69,
   "metadata": {
    "executionInfo": {
     "elapsed": 734,
     "status": "ok",
     "timestamp": 1604438275529,
     "user": {
      "displayName": "Nikos Sourlos",
      "photoUrl": "https://lh3.googleusercontent.com/a-/AOh14GjcgTSHpoVAOYoex4FY1mNtu0JRvup398eYayQgBw=s64",
      "userId": "05975458465273227746"
     },
     "user_tz": -120
    },
    "id": "-Hdtd_RSba40"
   },
   "outputs": [],
   "source": [
    "spectral.save_rgb(\"predictionsNefeli.jpg\", outputs6.astype(int), colors=spectral.spy_colors)"
   ]
  },
  {
   "cell_type": "code",
   "execution_count": null,
   "metadata": {
    "id": "xuj8ELnZe8xn"
   },
   "outputs": [],
   "source": [
    "#Only if we are interested in black pixels\n",
    "outputs7=np.zeros((outputs6.shape[0],outputs6.shape[1]))\n",
    "for i in range(outputs6.shape[0]):\n",
    "    for j in range(outputs6.shape[1]):\n",
    "        if outputs6[i][j]==15:\n",
    "            outputs7[i][j]=0\n",
    "        else:\n",
    "            outputs7[i][j]=outputs6[i][j]"
   ]
  },
  {
   "cell_type": "code",
   "execution_count": null,
   "metadata": {
    "id": "n7lMSZ0_e9Nx"
   },
   "outputs": [],
   "source": [
    "#Show images with black pixels\n",
    "predict_image = spectral.imshow(classes = outputs7.astype(int),figsize =(7,7))"
   ]
  },
  {
   "cell_type": "markdown",
   "metadata": {
    "id": "dghxD9qre2ye"
   },
   "source": [
    "Predicted Image for **Kirki** - Same code as before"
   ]
  },
  {
   "cell_type": "code",
   "execution_count": 23,
   "metadata": {
    "executionInfo": {
     "elapsed": 7814,
     "status": "ok",
     "timestamp": 1604443538451,
     "user": {
      "displayName": "Nikos Sourlos",
      "photoUrl": "https://lh3.googleusercontent.com/a-/AOh14GjcgTSHpoVAOYoex4FY1mNtu0JRvup398eYayQgBw=s64",
      "userId": "05975458465273227746"
     },
     "user_tz": -120
    },
    "id": "zVsAdqxKe-Op"
   },
   "outputs": [],
   "source": [
    "X=Kirki\n",
    "K = 30 \n",
    "X,pca = applyPCA(X,numComponents=K)"
   ]
  },
  {
   "cell_type": "code",
   "execution_count": 24,
   "metadata": {
    "colab": {
     "base_uri": "https://localhost:8080/"
    },
    "executionInfo": {
     "elapsed": 7348,
     "status": "ok",
     "timestamp": 1604443538453,
     "user": {
      "displayName": "Nikos Sourlos",
      "photoUrl": "https://lh3.googleusercontent.com/a-/AOh14GjcgTSHpoVAOYoex4FY1mNtu0JRvup398eYayQgBw=s64",
      "userId": "05975458465273227746"
     },
     "user_tz": -120
    },
    "id": "x40RLH-Je-gh",
    "outputId": "1247de1c-108a-45d7-db57-9b25ade2b09c"
   },
   "outputs": [
    {
     "data": {
      "text/plain": [
       "(257, 1638, 30)"
      ]
     },
     "execution_count": 24,
     "metadata": {
      "tags": []
     },
     "output_type": "execute_result"
    }
   ],
   "source": [
    "PATCH_SIZE=windowSize\n",
    "height = X.shape[0]\n",
    "width = X.shape[1]\n",
    "X = padWithZeros(X, PATCH_SIZE//2)\n",
    "X.shape"
   ]
  },
  {
   "cell_type": "code",
   "execution_count": null,
   "metadata": {
    "id": "r24aV0RFe-zJ"
   },
   "outputs": [],
   "source": [
    "# calculate the predicted image\n",
    "start=time.time()\n",
    "outputs8 = np.zeros((height,width))\n",
    "for i in range(height):\n",
    "    for j in range(width):\n",
    "            image_patch=Patch(X,i,j)\n",
    "            X_test_image = image_patch.reshape(1,image_patch.shape[0],image_patch.shape[1], image_patch.shape[2], 1).astype('float32')                                   \n",
    "            prediction = (model.predict(X_test_image))\n",
    "            prediction = np.argmax(prediction, axis=1)\n",
    "            outputs8[i][j] = prediction+1\n",
    "end=time.time()\n",
    "print(\"Total time in secs\")\n",
    "print(end-start)"
   ]
  },
  {
   "cell_type": "code",
   "execution_count": null,
   "metadata": {
    "id": "elkyZen7e_EW"
   },
   "outputs": [],
   "source": [
    "#Show predicted image\n",
    "predict_image = spectral.imshow(classes = outputs8.astype(int),figsize =(7,7))"
   ]
  },
  {
   "cell_type": "code",
   "execution_count": null,
   "metadata": {
    "id": "o2u1FMVjgXQi"
   },
   "outputs": [],
   "source": [
    "np.save('outputs8',outputs8)"
   ]
  },
  {
   "cell_type": "code",
   "execution_count": null,
   "metadata": {
    "id": "cyLnTYvWbiKd"
   },
   "outputs": [],
   "source": [
    "spectral.save_rgb(\"predictionsKirki.jpg\", outputs8.astype(int), colors=spectral.spy_colors)"
   ]
  },
  {
   "cell_type": "code",
   "execution_count": null,
   "metadata": {
    "id": "h2IQ4lmae_VV"
   },
   "outputs": [],
   "source": [
    "#Only if we are interested in black pixels\n",
    "outputs9=np.zeros((outputs8.shape[0],outputs8.shape[1]))\n",
    "for i in range(outputs8.shape[0]):\n",
    "    for j in range(outputs8.shape[1]):\n",
    "        if outputs8[i][j]==15:\n",
    "            outputs9[i][j]=0\n",
    "        else:\n",
    "            outputs9[i][j]=outputs8[i][j]"
   ]
  },
  {
   "cell_type": "code",
   "execution_count": null,
   "metadata": {
    "id": "TQMaGh9Ae_oi"
   },
   "outputs": [],
   "source": [
    "#Show images with black pixels\n",
    "predict_image = spectral.imshow(classes = outputs9.astype(int),figsize =(7,7))"
   ]
  }
 ],
 "metadata": {
  "colab": {
   "collapsed_sections": [],
   "name": "HSN.ipynb",
   "provenance": []
  },
  "kernelspec": {
   "display_name": "Python 3",
   "language": "python",
   "name": "python3"
  },
  "language_info": {
   "codemirror_mode": {
    "name": "ipython",
    "version": 3
   },
   "file_extension": ".py",
   "mimetype": "text/x-python",
   "name": "python",
   "nbconvert_exporter": "python",
   "pygments_lexer": "ipython3",
   "version": "3.7.3"
  }
 },
 "nbformat": 4,
 "nbformat_minor": 1
}
